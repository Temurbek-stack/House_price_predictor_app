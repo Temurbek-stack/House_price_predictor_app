{
 "cells": [
  {
   "cell_type": "code",
   "execution_count": 1,
   "id": "HQGrB_Y3YH1u",
   "metadata": {
    "executionInfo": {
     "elapsed": 48261,
     "status": "ok",
     "timestamp": 1719436750848,
     "user": {
      "displayName": "Asliddin Baxtiyorov",
      "userId": "02127626728938159573"
     },
     "user_tz": -300
    },
    "id": "HQGrB_Y3YH1u"
   },
   "outputs": [],
   "source": [
    "import pandas as pd\n",
    "import numpy as np\n",
    "import seaborn as sns\n",
    "import matplotlib.pyplot as plt\n",
    "import sqlite3\n",
    "\n",
    "# Connect to the SQLite database\n",
    "conn = sqlite3.connect(\"yakuniy_data_for_modeling.db\")\n",
    "cur = conn.cursor()\n",
    "#Execute a SELECT query to fetch all rows from a table\n",
    "query = \"SELECT * FROM aric_table\"\n",
    "cur.execute(query)\n",
    "location_data = cur.fetchall()\n",
    "df = pd.DataFrame(location_data, columns=[desc[0] for desc in cur.description])\n",
    "\n",
    "conn.close()"
   ]
  },
  {
   "cell_type": "code",
   "execution_count": 11,
   "id": "350e8eb6",
   "metadata": {
    "scrolled": true
   },
   "outputs": [
    {
     "name": "stdout",
     "output_type": "stream",
     "text": [
      "month_and_year\n",
      "04-2024    172192\n",
      "08-2024    146759\n",
      "03-2024    137170\n",
      "01-2024    132206\n",
      "06-2024    129385\n",
      "07-2024    124018\n",
      "05-2024    111627\n",
      "02-2024     86734\n",
      "03-2023     79220\n",
      "11-2023     73771\n",
      "08-2023     71952\n",
      "07-2023     65145\n",
      "06-2023     64514\n",
      "10-2023     62265\n",
      "05-2023     60878\n",
      "12-2023     53926\n",
      "09-2023     51514\n",
      "12-2022     39506\n",
      "04-2023     33561\n",
      "05-2022     24978\n",
      "11-2022     24353\n",
      "01-2023     21912\n",
      "02-2023     15979\n",
      "04-2022     12721\n",
      "10-2022      7542\n",
      "07-2022      1242\n",
      "06-2022       128\n",
      "Name: count, dtype: int64\n"
     ]
    }
   ],
   "source": [
    "month_count = df['month_and_year'].value_counts()\n",
    "print(month_count)"
   ]
  },
  {
   "cell_type": "code",
   "execution_count": 12,
   "id": "J6l9kzdNIKE0",
   "metadata": {
    "colab": {
     "base_uri": "https://localhost:8080/"
    },
    "executionInfo": {
     "elapsed": 27,
     "status": "ok",
     "timestamp": 1719436750849,
     "user": {
      "displayName": "Asliddin Baxtiyorov",
      "userId": "02127626728938159573"
     },
     "user_tz": -300
    },
    "id": "J6l9kzdNIKE0",
    "outputId": "2bd7275c-6445-4e46-ed92-dcbdbdae1bfd"
   },
   "outputs": [
    {
     "data": {
      "text/plain": [
       "Type of building\n",
       "Кирпичный     809186\n",
       "Панельный     590759\n",
       "nan           203690\n",
       "Монолитный    124689\n",
       "               61983\n",
       "Блочный        14448\n",
       "Деревянный       443\n",
       "Name: count, dtype: int64"
      ]
     },
     "execution_count": 12,
     "metadata": {},
     "output_type": "execute_result"
    }
   ],
   "source": [
    "df['Type of building'].value_counts()"
   ]
  },
  {
   "cell_type": "code",
   "execution_count": 13,
   "id": "smwGFwatGtRg",
   "metadata": {
    "executionInfo": {
     "elapsed": 2406,
     "status": "ok",
     "timestamp": 1719436786207,
     "user": {
      "displayName": "Asliddin Baxtiyorov",
      "userId": "02127626728938159573"
     },
     "user_tz": -300
    },
    "id": "smwGFwatGtRg"
   },
   "outputs": [],
   "source": [
    "df = df.rename(columns={'Arentir' : 'arentir'})\n",
    "drop_col = ['item_link','opublikovana','id1','В квартире есть:','Общая площадь:','Рядом есть:',\n",
    "            'Год постройки/сдачи:','Высота потолков:','current_day_1','location_1',\n",
    "            'location_2','state','latitude','longitude','latitude_state','longitude_state',\n",
    "           'price_sqrm','location_uz','Жилая площадь:','Площадь кухни:']\n",
    "df.drop(drop_col, axis=1, inplace=True)"
   ]
  },
  {
   "cell_type": "code",
   "execution_count": 14,
   "id": "BJbeXcjkoFpY",
   "metadata": {
    "colab": {
     "base_uri": "https://localhost:8080/"
    },
    "executionInfo": {
     "elapsed": 2671,
     "status": "ok",
     "timestamp": 1719436793976,
     "user": {
      "displayName": "Asliddin Baxtiyorov",
      "userId": "02127626728938159573"
     },
     "user_tz": -300
    },
    "id": "BJbeXcjkoFpY",
    "outputId": "2fdeffd7-5f18-4d47-84c0-b0ce734a81ba"
   },
   "outputs": [
    {
     "data": {
      "text/plain": [
       "(1805198, 40)"
      ]
     },
     "execution_count": 14,
     "metadata": {},
     "output_type": "execute_result"
    }
   ],
   "source": [
    "df.replace('nan', np.nan, inplace=True)\n",
    "df.shape"
   ]
  },
  {
   "cell_type": "code",
   "execution_count": 15,
   "id": "ugIvUViBKV2l",
   "metadata": {
    "colab": {
     "base_uri": "https://localhost:8080/"
    },
    "executionInfo": {
     "elapsed": 382,
     "status": "ok",
     "timestamp": 1719436798601,
     "user": {
      "displayName": "Asliddin Baxtiyorov",
      "userId": "02127626728938159573"
     },
     "user_tz": -300
    },
    "id": "ugIvUViBKV2l",
    "outputId": "43cb592d-f769-46d0-d941-265295d31735"
   },
   "outputs": [
    {
     "data": {
      "text/plain": [
       "Index(['price1', 'sqrm1', 'Kelishsa boladi', 'Ownership', 'Количество комнат:',\n",
       "       'Floor:', 'Number of Floors:', 'Меблирована:', 'Комиссионные:',\n",
       "       'month_and_year', 'школа', 'супермаркет', 'магазины', 'стоянка',\n",
       "       'больница', 'поликлиника', 'остановки', 'детская площадка', 'рестораны',\n",
       "       'кафе', 'развлекательные заведения', 'детский сад', 'зелёная зона',\n",
       "       'парк', 'холодильник', 'телефон', 'кухня', 'кабельное тв', 'интернет',\n",
       "       'балкон', 'стиральная машина', 'кондиционер', 'Телевизор',\n",
       "       'Type of building', 'Type of sanuzil', 'Type of planirovka',\n",
       "       'Type of remont', 'Type of housing', 'arentir', 'tumanlar'],\n",
       "      dtype='object')"
      ]
     },
     "execution_count": 15,
     "metadata": {},
     "output_type": "execute_result"
    }
   ],
   "source": [
    "df.columns"
   ]
  },
  {
   "cell_type": "code",
   "execution_count": 16,
   "id": "NByAwXqWH6qC",
   "metadata": {
    "executionInfo": {
     "elapsed": 1450,
     "status": "ok",
     "timestamp": 1719436805030,
     "user": {
      "displayName": "Asliddin Baxtiyorov",
      "userId": "02127626728938159573"
     },
     "user_tz": -300
    },
    "id": "NByAwXqWH6qC"
   },
   "outputs": [],
   "source": [
    "columns_to_replace = [\n",
    "    'Type of building', 'Type of sanuzil', 'Type of planirovka',\n",
    "       'Type of remont', 'Type of housing'\n",
    "]\n",
    "\n",
    "for col in columns_to_replace:\n",
    "    df[col].replace('', np.nan, inplace=True)"
   ]
  },
  {
   "cell_type": "code",
   "execution_count": 17,
   "id": "ZLe5aOXcm45l",
   "metadata": {
    "id": "ZLe5aOXcm45l"
   },
   "outputs": [],
   "source": [
    "nan_count = df.isna().sum()"
   ]
  },
  {
   "cell_type": "code",
   "execution_count": 18,
   "id": "a9Jcy15Xx9LY",
   "metadata": {
    "colab": {
     "base_uri": "https://localhost:8080/"
    },
    "executionInfo": {
     "elapsed": 330,
     "status": "ok",
     "timestamp": 1719419252361,
     "user": {
      "displayName": "Asliddin Baxtiyorov",
      "userId": "02127626728938159573"
     },
     "user_tz": -300
    },
    "id": "a9Jcy15Xx9LY",
    "outputId": "17d96d1b-bf9e-4465-c7c3-4efdf8767a9d"
   },
   "outputs": [
    {
     "data": {
      "text/plain": [
       "Kelishsa boladi        28458\n",
       "Меблирована:              85\n",
       "Type of building      265673\n",
       "Type of sanuzil       354414\n",
       "Type of planirovka    518977\n",
       "Type of remont        213447\n",
       "Type of housing        96681\n",
       "dtype: int64"
      ]
     },
     "execution_count": 18,
     "metadata": {},
     "output_type": "execute_result"
    }
   ],
   "source": [
    "columns_with_nan = nan_count[nan_count > 0]\n",
    "columns_with_nan"
   ]
  },
  {
   "cell_type": "code",
   "execution_count": 19,
   "id": "Q2uzwN9pqeAq",
   "metadata": {
    "executionInfo": {
     "elapsed": 413,
     "status": "ok",
     "timestamp": 1719436814935,
     "user": {
      "displayName": "Asliddin Baxtiyorov",
      "userId": "02127626728938159573"
     },
     "user_tz": -300
    },
    "id": "Q2uzwN9pqeAq"
   },
   "outputs": [],
   "source": [
    "df.rename(columns={'Количество комнат:':'Количество_комнат','Floor:': 'floor', 'Number of Floors:': 'number_floors','Комиссионные:':'Комиссионные',\n",
    "                  'Type of building':'type_building','Type of sanuzil':'type_sanuzil',\n",
    "                  'Type of planirovka':'type_planirovka','Type of remont':'type_remont',\n",
    "                  'Type of remont':'type_remont',\n",
    "                  'Kelishsa boladi':'kelishsa_boladi','Type of housing':'type_housing',\n",
    "                  'Меблирована:':'Меблирована','детская площадка':'детская_площадка',\n",
    "                  'развлекательные заведения':'развлекательные_заведения',\n",
    "                  'детский сад':'детский_сад','зелёная зона':'зелёная_зона','кабельное тв':'кабельное_тв',\n",
    "                  'стиральная машина':'стиральная_машина'}, inplace=True)\n",
    "\n"
   ]
  },
  {
   "cell_type": "code",
   "execution_count": 20,
   "id": "uALawQ6rIHkv",
   "metadata": {
    "colab": {
     "base_uri": "https://localhost:8080/"
    },
    "executionInfo": {
     "elapsed": 8751,
     "status": "ok",
     "timestamp": 1719436867861,
     "user": {
      "displayName": "Asliddin Baxtiyorov",
      "userId": "02127626728938159573"
     },
     "user_tz": -300
    },
    "id": "uALawQ6rIHkv",
    "outputId": "9ecf43ea-b399-4ea6-ab8a-03ec3dcc8b59",
    "scrolled": true
   },
   "outputs": [
    {
     "name": "stdout",
     "output_type": "stream",
     "text": [
      "<class 'pandas.core.frame.DataFrame'>\n",
      "RangeIndex: 1805198 entries, 0 to 1805197\n",
      "Data columns (total 40 columns):\n",
      " #   Column                     Dtype \n",
      "---  ------                     ----- \n",
      " 0   price1                     object\n",
      " 1   sqrm1                      int64 \n",
      " 2   kelishsa_boladi            object\n",
      " 3   Ownership                  object\n",
      " 4   Количество_комнат          object\n",
      " 5   floor                      object\n",
      " 6   number_floors              object\n",
      " 7   Меблирована                object\n",
      " 8   Комиссионные               object\n",
      " 9   month_and_year             object\n",
      " 10  школа                      int64 \n",
      " 11  супермаркет                int64 \n",
      " 12  магазины                   int64 \n",
      " 13  стоянка                    int64 \n",
      " 14  больница                   int64 \n",
      " 15  поликлиника                int64 \n",
      " 16  остановки                  int64 \n",
      " 17  детская_площадка           int64 \n",
      " 18  рестораны                  int64 \n",
      " 19  кафе                       int64 \n",
      " 20  развлекательные_заведения  int64 \n",
      " 21  детский_сад                int64 \n",
      " 22  зелёная_зона               int64 \n",
      " 23  парк                       int64 \n",
      " 24  холодильник                int64 \n",
      " 25  телефон                    int64 \n",
      " 26  кухня                      int64 \n",
      " 27  кабельное_тв               int64 \n",
      " 28  интернет                   int64 \n",
      " 29  балкон                     int64 \n",
      " 30  стиральная_машина          int64 \n",
      " 31  кондиционер                int64 \n",
      " 32  Телевизор                  int64 \n",
      " 33  type_building              object\n",
      " 34  type_sanuzil               object\n",
      " 35  type_planirovka            object\n",
      " 36  type_remont                object\n",
      " 37  type_housing               object\n",
      " 38  arentir                    object\n",
      " 39  tumanlar                   object\n",
      "dtypes: int64(24), object(16)\n",
      "memory usage: 550.9+ MB\n",
      "<class 'pandas.core.frame.DataFrame'>\n",
      "Index: 1043011 entries, 0 to 1805196\n",
      "Data columns (total 40 columns):\n",
      " #   Column                     Non-Null Count    Dtype \n",
      "---  ------                     --------------    ----- \n",
      " 0   price1                     1043011 non-null  object\n",
      " 1   sqrm1                      1043011 non-null  int64 \n",
      " 2   kelishsa_boladi            1043011 non-null  object\n",
      " 3   Ownership                  1043011 non-null  object\n",
      " 4   Количество_комнат          1043011 non-null  object\n",
      " 5   floor                      1043011 non-null  object\n",
      " 6   number_floors              1043011 non-null  object\n",
      " 7   Меблирована                1043011 non-null  object\n",
      " 8   Комиссионные               1043011 non-null  object\n",
      " 9   month_and_year             1043011 non-null  object\n",
      " 10  школа                      1043011 non-null  int64 \n",
      " 11  супермаркет                1043011 non-null  int64 \n",
      " 12  магазины                   1043011 non-null  int64 \n",
      " 13  стоянка                    1043011 non-null  int64 \n",
      " 14  больница                   1043011 non-null  int64 \n",
      " 15  поликлиника                1043011 non-null  int64 \n",
      " 16  остановки                  1043011 non-null  int64 \n",
      " 17  детская_площадка           1043011 non-null  int64 \n",
      " 18  рестораны                  1043011 non-null  int64 \n",
      " 19  кафе                       1043011 non-null  int64 \n",
      " 20  развлекательные_заведения  1043011 non-null  int64 \n",
      " 21  детский_сад                1043011 non-null  int64 \n",
      " 22  зелёная_зона               1043011 non-null  int64 \n",
      " 23  парк                       1043011 non-null  int64 \n",
      " 24  холодильник                1043011 non-null  int64 \n",
      " 25  телефон                    1043011 non-null  int64 \n",
      " 26  кухня                      1043011 non-null  int64 \n",
      " 27  кабельное_тв               1043011 non-null  int64 \n",
      " 28  интернет                   1043011 non-null  int64 \n",
      " 29  балкон                     1043011 non-null  int64 \n",
      " 30  стиральная_машина          1043011 non-null  int64 \n",
      " 31  кондиционер                1043011 non-null  int64 \n",
      " 32  Телевизор                  1043011 non-null  int64 \n",
      " 33  type_building              1043011 non-null  object\n",
      " 34  type_sanuzil               1043011 non-null  object\n",
      " 35  type_planirovka            1043011 non-null  object\n",
      " 36  type_remont                1043011 non-null  object\n",
      " 37  type_housing               1043011 non-null  object\n",
      " 38  arentir                    1043011 non-null  object\n",
      " 39  tumanlar                   1043011 non-null  object\n",
      "dtypes: int64(24), object(16)\n",
      "memory usage: 326.3+ MB\n"
     ]
    }
   ],
   "source": [
    "data = df.copy()\n",
    "data.info()\n",
    "data.dropna(inplace = True)\n",
    "data.info()"
   ]
  },
  {
   "cell_type": "code",
   "execution_count": 21,
   "id": "989048e9",
   "metadata": {},
   "outputs": [
    {
     "data": {
      "text/plain": [
       "Index(['price1', 'sqrm1', 'kelishsa_boladi', 'Ownership', 'Количество_комнат',\n",
       "       'floor', 'number_floors', 'Меблирована', 'Комиссионные',\n",
       "       'month_and_year', 'школа', 'супермаркет', 'магазины', 'стоянка',\n",
       "       'больница', 'поликлиника', 'остановки', 'детская_площадка', 'рестораны',\n",
       "       'кафе', 'развлекательные_заведения', 'детский_сад', 'зелёная_зона',\n",
       "       'парк', 'холодильник', 'телефон', 'кухня', 'кабельное_тв', 'интернет',\n",
       "       'балкон', 'стиральная_машина', 'кондиционер', 'Телевизор',\n",
       "       'type_building', 'type_sanuzil', 'type_planirovka', 'type_remont',\n",
       "       'type_housing', 'arentir', 'tumanlar'],\n",
       "      dtype='object')"
      ]
     },
     "execution_count": 21,
     "metadata": {},
     "output_type": "execute_result"
    }
   ],
   "source": [
    "data.columns"
   ]
  },
  {
   "cell_type": "code",
   "execution_count": 22,
   "id": "17b20050",
   "metadata": {},
   "outputs": [],
   "source": [
    "numeric_columns = ['kelishsa_boladi', 'Количество_комнат', 'floor', 'number_floors', 'Меблирована']\n",
    "data[numeric_columns] = data[numeric_columns].apply(pd.to_numeric)"
   ]
  },
  {
   "cell_type": "code",
   "execution_count": 23,
   "id": "4d23c07d",
   "metadata": {},
   "outputs": [
    {
     "data": {
      "text/plain": [
       "<bound method IndexOpsMixin.nunique of 0          1\n",
       "1          1\n",
       "2          1\n",
       "3          1\n",
       "4          0\n",
       "          ..\n",
       "1805189    1\n",
       "1805190    0\n",
       "1805193    1\n",
       "1805194    1\n",
       "1805196    0\n",
       "Name: kelishsa_boladi, Length: 1043011, dtype: int64>"
      ]
     },
     "execution_count": 23,
     "metadata": {},
     "output_type": "execute_result"
    }
   ],
   "source": [
    "data['kelishsa_boladi'].nunique"
   ]
  },
  {
   "cell_type": "code",
   "execution_count": 24,
   "id": "u4eECayJ6NO2",
   "metadata": {
    "executionInfo": {
     "elapsed": 374,
     "status": "ok",
     "timestamp": 1719436878847,
     "user": {
      "displayName": "Asliddin Baxtiyorov",
      "userId": "02127626728938159573"
     },
     "user_tz": -300
    },
    "id": "u4eECayJ6NO2"
   },
   "outputs": [],
   "source": [
    "try:\n",
    "  # Attempt conversion, catching potential errors\n",
    "  data['price1'] = data['price1'].astype(float)\n",
    "except (ValueError, TypeError):\n",
    "  # Handle errors gracefully, e.g., replace non-numeric values with NaN\n",
    "  data['price1'] = pd.to_numeric(data['price1'], errors='coerce') # Use data['price1'] instead of np._DatetimeScalar['price1']"
   ]
  },
  {
   "cell_type": "code",
   "execution_count": 25,
   "id": "u1t8BqwH-WIt",
   "metadata": {
    "colab": {
     "base_uri": "https://localhost:8080/"
    },
    "executionInfo": {
     "elapsed": 428,
     "status": "ok",
     "timestamp": 1719423539958,
     "user": {
      "displayName": "Asliddin Baxtiyorov",
      "userId": "02127626728938159573"
     },
     "user_tz": -300
    },
    "id": "u1t8BqwH-WIt",
    "outputId": "b6132416-5699-49f5-95f8-0559f22c44ae"
   },
   "outputs": [
    {
     "data": {
      "text/plain": [
       "(1043011, 40)"
      ]
     },
     "execution_count": 25,
     "metadata": {},
     "output_type": "execute_result"
    }
   ],
   "source": [
    "data.shape"
   ]
  },
  {
   "cell_type": "code",
   "execution_count": 26,
   "id": "1d540dc7",
   "metadata": {},
   "outputs": [],
   "source": [
    "data_1_5 = data[data['Количество_комнат'] <= 5]"
   ]
  },
  {
   "cell_type": "code",
   "execution_count": 27,
   "id": "77a0365d",
   "metadata": {},
   "outputs": [
    {
     "data": {
      "text/plain": [
       "(982146, 40)"
      ]
     },
     "execution_count": 27,
     "metadata": {},
     "output_type": "execute_result"
    }
   ],
   "source": [
    "data_1_5_trimmed = data_1_5[\n",
    "    ((data_1_5['Количество_комнат'] == 1) & (data_1_5['price1'] >= 20000) & (data_1_5['price1'] <= 80000)) |\n",
    "    ((data_1_5['Количество_комнат'] == 2) & (data_1_5['price1'] >= 30800) & (data_1_5['price1'] <= 123000)) |\n",
    "    ((data_1_5['Количество_комнат'] == 3) & (data_1_5['price1'] >= 45000) & (data_1_5['price1'] <= 180000)) |\n",
    "    ((data_1_5['Количество_комнат'] == 4) & (data_1_5['price1'] >= 62000) & (data_1_5['price1'] <= 240000)) |\n",
    "    ((data_1_5['Количество_комнат'] == 5) & (data_1_5['price1'] >= 66000) & (data_1_5['price1'] <= 260000)) \n",
    "]\n",
    "\n",
    "# Reset the index if needed\n",
    "data_1_5_trimmed = data_1_5_trimmed.reset_index(drop=True)\n",
    "\n",
    "data_1_5_trimmed.shape\n"
   ]
  },
  {
   "cell_type": "code",
   "execution_count": 28,
   "id": "9909608b",
   "metadata": {},
   "outputs": [
    {
     "data": {
      "text/plain": [
       "0.000     20000.00\n",
       "0.005     30000.00\n",
       "0.010     34500.00\n",
       "0.025     40000.00\n",
       "0.050     44500.00\n",
       "0.100     50000.00\n",
       "0.250     60000.00\n",
       "0.500     74999.00\n",
       "0.750     98000.00\n",
       "0.900    125000.00\n",
       "0.950    147000.00\n",
       "0.975    168269.25\n",
       "0.990    200000.00\n",
       "0.995    220000.00\n",
       "1.000    260000.00\n",
       "Name: price1, dtype: float64"
      ]
     },
     "execution_count": 28,
     "metadata": {},
     "output_type": "execute_result"
    }
   ],
   "source": [
    "data_1_5_trimmed['price1'].describe()\n",
    "percentiles = [0, 0.005, 0.01 , 0.025 ,0.05  ,0.1  , 0.25 , 0.5 ,  0.75,  0.9 ,  0.95, 0.975 , 0.99 , 0.995, 1]\n",
    "data_1_5_trimmed['price1'].quantile(percentiles)"
   ]
  },
  {
   "cell_type": "code",
   "execution_count": 29,
   "id": "f9f1be2c",
   "metadata": {},
   "outputs": [
    {
     "data": {
      "text/plain": [
       "array([2, 4, 3, 1, 5], dtype=int64)"
      ]
     },
     "execution_count": 29,
     "metadata": {},
     "output_type": "execute_result"
    }
   ],
   "source": [
    "data_1_5_trimmed['Количество_комнат'].unique()"
   ]
  },
  {
   "cell_type": "code",
   "execution_count": 30,
   "id": "eiBQKTB9tcEV",
   "metadata": {
    "executionInfo": {
     "elapsed": 7181,
     "status": "ok",
     "timestamp": 1719436919084,
     "user": {
      "displayName": "Asliddin Baxtiyorov",
      "userId": "02127626728938159573"
     },
     "user_tz": -300
    },
    "id": "eiBQKTB9tcEV"
   },
   "outputs": [
    {
     "data": {
      "text/plain": [
       "(982146, 386)"
      ]
     },
     "execution_count": 30,
     "metadata": {},
     "output_type": "execute_result"
    }
   ],
   "source": [
    "# List of columns to create dummy variables for\n",
    "columns_to_dummify = ['arentir','tumanlar', 'Ownership', 'type_building', 'type_sanuzil', 'type_planirovka', 'type_remont', 'type_housing', 'Комиссионные']\n",
    "\n",
    "# Create dummy variables for each column and concatenate them with the original dataframe\n",
    "housing_pd_final = pd.get_dummies(data_1_5_trimmed, columns=columns_to_dummify, dtype=int)\n",
    "\n",
    "# Rename 'uy_narxi' column from the original dataframe and add it to housing_pd_final\n",
    "# housing_pd_final['arentir'] = data['arentir']\n",
    "housing_pd_final['uy_narxi'] = housing_pd_final['price1']\n",
    "\n",
    "\n",
    "\n",
    "housing_pd_final.drop(columns=['price1'], inplace=True)\n",
    "\n",
    "#housing_pd_final = housing_pd_final.dropna()\n",
    "housing_pd_final.shape\n",
    "\n",
    "#housing_pd_final['stratify_column'] = housing_pd_final['Количество_комнат'].astype(str) + '_' + housing_pd_final['month_and_year'].astype(str)"
   ]
  },
  {
   "cell_type": "code",
   "execution_count": 31,
   "id": "91OCAUY0HTEB",
   "metadata": {
    "executionInfo": {
     "elapsed": 908,
     "status": "ok",
     "timestamp": 1719436928716,
     "user": {
      "displayName": "Asliddin Baxtiyorov",
      "userId": "02127626728938159573"
     },
     "user_tz": -300
    },
    "id": "91OCAUY0HTEB"
   },
   "outputs": [],
   "source": [
    "# Process date column\n",
    "housing_pd_final['month_and_year'] = pd.to_datetime(housing_pd_final['month_and_year'], format='%m-%Y')\n",
    "housing_pd_final['month'] = housing_pd_final['month_and_year'].dt.month\n",
    "housing_pd_final['year'] = housing_pd_final['month_and_year'].dt.year\n",
    "\n",
    "housing_pd_final.drop('month_and_year', axis=1, inplace=True)"
   ]
  },
  {
   "cell_type": "code",
   "execution_count": 32,
   "id": "BujafCTdmeXl",
   "metadata": {
    "colab": {
     "base_uri": "https://localhost:8080/"
    },
    "executionInfo": {
     "elapsed": 4,
     "status": "ok",
     "timestamp": 1719425184134,
     "user": {
      "displayName": "Asliddin Baxtiyorov",
      "userId": "02127626728938159573"
     },
     "user_tz": -300
    },
    "id": "BujafCTdmeXl",
    "outputId": "3236fe33-d6e3-447f-f52c-2c51cc8da8e2"
   },
   "outputs": [
    {
     "data": {
      "text/plain": [
       "(982146, 387)"
      ]
     },
     "execution_count": 32,
     "metadata": {},
     "output_type": "execute_result"
    }
   ],
   "source": [
    "housing_pd_final.shape"
   ]
  },
  {
   "cell_type": "code",
   "execution_count": 23,
   "id": "fc64eadb",
   "metadata": {
    "scrolled": true
   },
   "outputs": [
    {
     "name": "stdout",
     "output_type": "stream",
     "text": [
      "Defaulting to user installation because normal site-packages is not writeable\n",
      "Collecting optuna\n",
      "  Obtaining dependency information for optuna from https://files.pythonhosted.org/packages/15/da/68883911855d8b4d521f9a370e4e6aab8232b91c1d8d5a8348c4680c6642/optuna-3.6.1-py3-none-any.whl.metadata\n",
      "  Downloading optuna-3.6.1-py3-none-any.whl.metadata (17 kB)\n",
      "Collecting alembic>=1.5.0 (from optuna)\n",
      "  Obtaining dependency information for alembic>=1.5.0 from https://files.pythonhosted.org/packages/df/ed/c884465c33c25451e4a5cd4acad154c29e5341e3214e220e7f3478aa4b0d/alembic-1.13.2-py3-none-any.whl.metadata\n",
      "  Downloading alembic-1.13.2-py3-none-any.whl.metadata (7.4 kB)\n",
      "Collecting colorlog (from optuna)\n",
      "  Obtaining dependency information for colorlog from https://files.pythonhosted.org/packages/f3/18/3e867ab37a24fdf073c1617b9c7830e06ec270b1ea4694a624038fc40a03/colorlog-6.8.2-py3-none-any.whl.metadata\n",
      "  Downloading colorlog-6.8.2-py3-none-any.whl.metadata (10 kB)\n",
      "Requirement already satisfied: numpy in c:\\programdata\\anaconda3\\lib\\site-packages (from optuna) (1.24.3)\n",
      "Requirement already satisfied: packaging>=20.0 in c:\\programdata\\anaconda3\\lib\\site-packages (from optuna) (23.1)\n",
      "Requirement already satisfied: sqlalchemy>=1.3.0 in c:\\programdata\\anaconda3\\lib\\site-packages (from optuna) (1.4.39)\n",
      "Requirement already satisfied: tqdm in c:\\programdata\\anaconda3\\lib\\site-packages (from optuna) (4.65.0)\n",
      "Requirement already satisfied: PyYAML in c:\\programdata\\anaconda3\\lib\\site-packages (from optuna) (6.0)\n",
      "Collecting Mako (from alembic>=1.5.0->optuna)\n",
      "  Obtaining dependency information for Mako from https://files.pythonhosted.org/packages/03/62/70f5a0c2dd208f9f3f2f9afd103aec42ee4d9ad2401d78342f75e9b8da36/Mako-1.3.5-py3-none-any.whl.metadata\n",
      "  Downloading Mako-1.3.5-py3-none-any.whl.metadata (2.9 kB)\n",
      "Requirement already satisfied: typing-extensions>=4 in c:\\users\\khasanboev\\appdata\\roaming\\python\\python311\\site-packages (from alembic>=1.5.0->optuna) (4.11.0)\n",
      "Requirement already satisfied: greenlet!=0.4.17 in c:\\programdata\\anaconda3\\lib\\site-packages (from sqlalchemy>=1.3.0->optuna) (2.0.1)\n",
      "Requirement already satisfied: colorama in c:\\programdata\\anaconda3\\lib\\site-packages (from colorlog->optuna) (0.4.6)\n",
      "Requirement already satisfied: MarkupSafe>=0.9.2 in c:\\programdata\\anaconda3\\lib\\site-packages (from Mako->alembic>=1.5.0->optuna) (2.1.1)\n",
      "Downloading optuna-3.6.1-py3-none-any.whl (380 kB)\n",
      "   ---------------------------------------- 0.0/380.1 kB ? eta -:--:--\n",
      "   --- ---------------------------------- 30.7/380.1 kB 660.6 kB/s eta 0:00:01\n",
      "   ------ --------------------------------- 61.4/380.1 kB 1.1 MB/s eta 0:00:01\n",
      "   ---------------------------- ---------- 276.5/380.1 kB 2.9 MB/s eta 0:00:01\n",
      "   --------------------------------------- 380.1/380.1 kB 2.6 MB/s eta 0:00:00\n",
      "Downloading alembic-1.13.2-py3-none-any.whl (232 kB)\n",
      "   ---------------------------------------- 0.0/233.0 kB ? eta -:--:--\n",
      "   ----- ---------------------------------- 30.7/233.0 kB ? eta -:--:--\n",
      "   --------------------------- ----------- 163.8/233.0 kB 1.9 MB/s eta 0:00:01\n",
      "   ------------------------------------- - 225.3/233.0 kB 2.0 MB/s eta 0:00:01\n",
      "   --------------------------------------- 233.0/233.0 kB 1.8 MB/s eta 0:00:00\n",
      "Downloading colorlog-6.8.2-py3-none-any.whl (11 kB)\n",
      "Downloading Mako-1.3.5-py3-none-any.whl (78 kB)\n",
      "   ---------------------------------------- 0.0/78.6 kB ? eta -:--:--\n",
      "   ------------------------------- -------- 61.4/78.6 kB 1.6 MB/s eta 0:00:01\n",
      "   ---------------------------------------- 78.6/78.6 kB 1.5 MB/s eta 0:00:00\n",
      "Installing collected packages: Mako, colorlog, alembic, optuna\n",
      "Successfully installed Mako-1.3.5 alembic-1.13.2 colorlog-6.8.2 optuna-3.6.1\n",
      "Note: you may need to restart the kernel to use updated packages.\n"
     ]
    },
    {
     "name": "stderr",
     "output_type": "stream",
     "text": [
      "WARNING: Ignoring invalid distribution ~indows-curses (C:\\Users\\khasanboev\\AppData\\Roaming\\Python\\Python311\\site-packages)\n",
      "WARNING: Ignoring invalid distribution ~indows-curses (C:\\Users\\khasanboev\\AppData\\Roaming\\Python\\Python311\\site-packages)\n",
      "WARNING: Ignoring invalid distribution ~indows-curses (C:\\Users\\khasanboev\\AppData\\Roaming\\Python\\Python311\\site-packages)\n",
      "  WARNING: The script mako-render.exe is installed in 'C:\\Users\\khasanboev\\AppData\\Roaming\\Python\\Python311\\Scripts' which is not on PATH.\n",
      "  Consider adding this directory to PATH or, if you prefer to suppress this warning, use --no-warn-script-location.\n",
      "  WARNING: The script alembic.exe is installed in 'C:\\Users\\khasanboev\\AppData\\Roaming\\Python\\Python311\\Scripts' which is not on PATH.\n",
      "  Consider adding this directory to PATH or, if you prefer to suppress this warning, use --no-warn-script-location.\n",
      "  WARNING: The script optuna.exe is installed in 'C:\\Users\\khasanboev\\AppData\\Roaming\\Python\\Python311\\Scripts' which is not on PATH.\n",
      "  Consider adding this directory to PATH or, if you prefer to suppress this warning, use --no-warn-script-location.\n",
      "WARNING: Ignoring invalid distribution ~indows-curses (C:\\Users\\khasanboev\\AppData\\Roaming\\Python\\Python311\\site-packages)\n",
      "WARNING: Ignoring invalid distribution ~indows-curses (C:\\Users\\khasanboev\\AppData\\Roaming\\Python\\Python311\\site-packages)\n",
      "WARNING: Ignoring invalid distribution ~indows-curses (C:\\Users\\khasanboev\\AppData\\Roaming\\Python\\Python311\\site-packages)\n"
     ]
    }
   ],
   "source": [
    "#pip install optuna"
   ]
  },
  {
   "cell_type": "code",
   "execution_count": 34,
   "id": "f568498c",
   "metadata": {
    "scrolled": true
   },
   "outputs": [
    {
     "name": "stderr",
     "output_type": "stream",
     "text": [
      "[I 2024-09-21 23:55:05,586] A new study created in memory with name: no-name-9c0afdc5-4162-4674-85de-f446d896df25\n",
      "C:\\Users\\khasanboev\\AppData\\Local\\Temp\\ipykernel_6136\\2645574178.py:23: FutureWarning: suggest_loguniform has been deprecated in v3.0.0. This feature will be removed in v6.0.0. See https://github.com/optuna/optuna/releases/tag/v3.0.0. Use suggest_float(..., log=True) instead.\n",
      "  'learning_rate': trial.suggest_loguniform('learning_rate', 0.1, 0.6),\n",
      "C:\\Users\\khasanboev\\AppData\\Local\\Temp\\ipykernel_6136\\2645574178.py:24: FutureWarning: suggest_loguniform has been deprecated in v3.0.0. This feature will be removed in v6.0.0. See https://github.com/optuna/optuna/releases/tag/v3.0.0. Use suggest_float(..., log=True) instead.\n",
      "  'min_gain_to_split': trial.suggest_loguniform('min_gain_to_split', 0.05, 0.3),\n",
      "C:\\Users\\khasanboev\\AppData\\Local\\Temp\\ipykernel_6136\\2645574178.py:26: FutureWarning: suggest_uniform has been deprecated in v3.0.0. This feature will be removed in v6.0.0. See https://github.com/optuna/optuna/releases/tag/v3.0.0. Use suggest_float instead.\n",
      "  'feature_fraction': trial.suggest_uniform('feature_fraction', 0.7, 1.0),\n",
      "C:\\Users\\khasanboev\\AppData\\Local\\Temp\\ipykernel_6136\\2645574178.py:27: FutureWarning: suggest_loguniform has been deprecated in v3.0.0. This feature will be removed in v6.0.0. See https://github.com/optuna/optuna/releases/tag/v3.0.0. Use suggest_float(..., log=True) instead.\n",
      "  'lambda_l1': trial.suggest_loguniform('lambda_l1', 1, 10.0),\n",
      "C:\\Users\\khasanboev\\AppData\\Local\\Temp\\ipykernel_6136\\2645574178.py:28: FutureWarning: suggest_loguniform has been deprecated in v3.0.0. This feature will be removed in v6.0.0. See https://github.com/optuna/optuna/releases/tag/v3.0.0. Use suggest_float(..., log=True) instead.\n",
      "  'lambda_l2': trial.suggest_loguniform('lambda_l2', 1, 10.0),\n",
      "C:\\Users\\khasanboev\\AppData\\Local\\Temp\\ipykernel_6136\\2645574178.py:30: FutureWarning: suggest_uniform has been deprecated in v3.0.0. This feature will be removed in v6.0.0. See https://github.com/optuna/optuna/releases/tag/v3.0.0. Use suggest_float instead.\n",
      "  'bagging_fraction': trial.suggest_uniform('bagging_fraction', 0.5, 1.0),\n",
      "C:\\Users\\khasanboev\\AppData\\Local\\Temp\\ipykernel_6136\\2645574178.py:32: FutureWarning: suggest_uniform has been deprecated in v3.0.0. This feature will be removed in v6.0.0. See https://github.com/optuna/optuna/releases/tag/v3.0.0. Use suggest_float instead.\n",
      "  'feature_fraction_bynode': trial.suggest_uniform('feature_fraction_bynode', 0.5, 1.0),\n",
      "C:\\Users\\khasanboev\\AppData\\Local\\Temp\\ipykernel_6136\\2645574178.py:33: FutureWarning: suggest_loguniform has been deprecated in v3.0.0. This feature will be removed in v6.0.0. See https://github.com/optuna/optuna/releases/tag/v3.0.0. Use suggest_float(..., log=True) instead.\n",
      "  'min_sum_hessian_in_leaf': trial.suggest_loguniform('min_sum_hessian_in_leaf', 1e-3, 10.0),\n",
      "C:\\Users\\khasanboev\\AppData\\Local\\Temp\\ipykernel_6136\\2645574178.py:35: FutureWarning: suggest_loguniform has been deprecated in v3.0.0. This feature will be removed in v6.0.0. See https://github.com/optuna/optuna/releases/tag/v3.0.0. Use suggest_float(..., log=True) instead.\n",
      "  'cat_l2': trial.suggest_loguniform('cat_l2', 1e-3, 10.0),\n",
      "C:\\Users\\khasanboev\\AppData\\Local\\Temp\\ipykernel_6136\\2645574178.py:23: FutureWarning: suggest_loguniform has been deprecated in v3.0.0. This feature will be removed in v6.0.0. See https://github.com/optuna/optuna/releases/tag/v3.0.0. Use suggest_float(..., log=True) instead.\n",
      "  'learning_rate': trial.suggest_loguniform('learning_rate', 0.1, 0.6),\n",
      "C:\\Users\\khasanboev\\AppData\\Local\\Temp\\ipykernel_6136\\2645574178.py:24: FutureWarning: suggest_loguniform has been deprecated in v3.0.0. This feature will be removed in v6.0.0. See https://github.com/optuna/optuna/releases/tag/v3.0.0. Use suggest_float(..., log=True) instead.\n",
      "  'min_gain_to_split': trial.suggest_loguniform('min_gain_to_split', 0.05, 0.3),\n",
      "C:\\Users\\khasanboev\\AppData\\Local\\Temp\\ipykernel_6136\\2645574178.py:26: FutureWarning: suggest_uniform has been deprecated in v3.0.0. This feature will be removed in v6.0.0. See https://github.com/optuna/optuna/releases/tag/v3.0.0. Use suggest_float instead.\n",
      "  'feature_fraction': trial.suggest_uniform('feature_fraction', 0.7, 1.0),\n",
      "C:\\Users\\khasanboev\\AppData\\Local\\Temp\\ipykernel_6136\\2645574178.py:27: FutureWarning: suggest_loguniform has been deprecated in v3.0.0. This feature will be removed in v6.0.0. See https://github.com/optuna/optuna/releases/tag/v3.0.0. Use suggest_float(..., log=True) instead.\n",
      "  'lambda_l1': trial.suggest_loguniform('lambda_l1', 1, 10.0),\n",
      "C:\\Users\\khasanboev\\AppData\\Local\\Temp\\ipykernel_6136\\2645574178.py:28: FutureWarning: suggest_loguniform has been deprecated in v3.0.0. This feature will be removed in v6.0.0. See https://github.com/optuna/optuna/releases/tag/v3.0.0. Use suggest_float(..., log=True) instead.\n",
      "  'lambda_l2': trial.suggest_loguniform('lambda_l2', 1, 10.0),\n",
      "C:\\Users\\khasanboev\\AppData\\Local\\Temp\\ipykernel_6136\\2645574178.py:30: FutureWarning: suggest_uniform has been deprecated in v3.0.0. This feature will be removed in v6.0.0. See https://github.com/optuna/optuna/releases/tag/v3.0.0. Use suggest_float instead.\n",
      "  'bagging_fraction': trial.suggest_uniform('bagging_fraction', 0.5, 1.0),\n",
      "C:\\Users\\khasanboev\\AppData\\Local\\Temp\\ipykernel_6136\\2645574178.py:32: FutureWarning: suggest_uniform has been deprecated in v3.0.0. This feature will be removed in v6.0.0. See https://github.com/optuna/optuna/releases/tag/v3.0.0. Use suggest_float instead.\n",
      "  'feature_fraction_bynode': trial.suggest_uniform('feature_fraction_bynode', 0.5, 1.0),\n",
      "C:\\Users\\khasanboev\\AppData\\Local\\Temp\\ipykernel_6136\\2645574178.py:33: FutureWarning: suggest_loguniform has been deprecated in v3.0.0. This feature will be removed in v6.0.0. See https://github.com/optuna/optuna/releases/tag/v3.0.0. Use suggest_float(..., log=True) instead.\n",
      "  'min_sum_hessian_in_leaf': trial.suggest_loguniform('min_sum_hessian_in_leaf', 1e-3, 10.0),\n",
      "C:\\Users\\khasanboev\\AppData\\Local\\Temp\\ipykernel_6136\\2645574178.py:35: FutureWarning: suggest_loguniform has been deprecated in v3.0.0. This feature will be removed in v6.0.0. See https://github.com/optuna/optuna/releases/tag/v3.0.0. Use suggest_float(..., log=True) instead.\n",
      "  'cat_l2': trial.suggest_loguniform('cat_l2', 1e-3, 10.0),\n",
      "C:\\Users\\khasanboev\\AppData\\Local\\Temp\\ipykernel_6136\\2645574178.py:24: FutureWarning: suggest_loguniform has been deprecated in v3.0.0. This feature will be removed in v6.0.0. See https://github.com/optuna/optuna/releases/tag/v3.0.0. Use suggest_float(..., log=True) instead.\n",
      "  'min_gain_to_split': trial.suggest_loguniform('min_gain_to_split', 0.05, 0.3),\n",
      "C:\\Users\\khasanboev\\AppData\\Local\\Temp\\ipykernel_6136\\2645574178.py:26: FutureWarning: suggest_uniform has been deprecated in v3.0.0. This feature will be removed in v6.0.0. See https://github.com/optuna/optuna/releases/tag/v3.0.0. Use suggest_float instead.\n",
      "  'feature_fraction': trial.suggest_uniform('feature_fraction', 0.7, 1.0),\n",
      "C:\\Users\\khasanboev\\AppData\\Local\\Temp\\ipykernel_6136\\2645574178.py:27: FutureWarning: suggest_loguniform has been deprecated in v3.0.0. This feature will be removed in v6.0.0. See https://github.com/optuna/optuna/releases/tag/v3.0.0. Use suggest_float(..., log=True) instead.\n",
      "  'lambda_l1': trial.suggest_loguniform('lambda_l1', 1, 10.0),\n",
      "C:\\Users\\khasanboev\\AppData\\Local\\Temp\\ipykernel_6136\\2645574178.py:28: FutureWarning: suggest_loguniform has been deprecated in v3.0.0. This feature will be removed in v6.0.0. See https://github.com/optuna/optuna/releases/tag/v3.0.0. Use suggest_float(..., log=True) instead.\n",
      "  'lambda_l2': trial.suggest_loguniform('lambda_l2', 1, 10.0),\n",
      "C:\\Users\\khasanboev\\AppData\\Local\\Temp\\ipykernel_6136\\2645574178.py:30: FutureWarning: suggest_uniform has been deprecated in v3.0.0. This feature will be removed in v6.0.0. See https://github.com/optuna/optuna/releases/tag/v3.0.0. Use suggest_float instead.\n",
      "  'bagging_fraction': trial.suggest_uniform('bagging_fraction', 0.5, 1.0),\n",
      "C:\\Users\\khasanboev\\AppData\\Local\\Temp\\ipykernel_6136\\2645574178.py:32: FutureWarning: suggest_uniform has been deprecated in v3.0.0. This feature will be removed in v6.0.0. See https://github.com/optuna/optuna/releases/tag/v3.0.0. Use suggest_float instead.\n",
      "  'feature_fraction_bynode': trial.suggest_uniform('feature_fraction_bynode', 0.5, 1.0),\n",
      "C:\\Users\\khasanboev\\AppData\\Local\\Temp\\ipykernel_6136\\2645574178.py:33: FutureWarning: suggest_loguniform has been deprecated in v3.0.0. This feature will be removed in v6.0.0. See https://github.com/optuna/optuna/releases/tag/v3.0.0. Use suggest_float(..., log=True) instead.\n",
      "  'min_sum_hessian_in_leaf': trial.suggest_loguniform('min_sum_hessian_in_leaf', 1e-3, 10.0),\n",
      "C:\\Users\\khasanboev\\AppData\\Local\\Temp\\ipykernel_6136\\2645574178.py:23: FutureWarning: suggest_loguniform has been deprecated in v3.0.0. This feature will be removed in v6.0.0. See https://github.com/optuna/optuna/releases/tag/v3.0.0. Use suggest_float(..., log=True) instead.\n",
      "  'learning_rate': trial.suggest_loguniform('learning_rate', 0.1, 0.6),\n",
      "C:\\Users\\khasanboev\\AppData\\Local\\Temp\\ipykernel_6136\\2645574178.py:24: FutureWarning: suggest_loguniform has been deprecated in v3.0.0. This feature will be removed in v6.0.0. See https://github.com/optuna/optuna/releases/tag/v3.0.0. Use suggest_float(..., log=True) instead.\n",
      "  'min_gain_to_split': trial.suggest_loguniform('min_gain_to_split', 0.05, 0.3),\n",
      "C:\\Users\\khasanboev\\AppData\\Local\\Temp\\ipykernel_6136\\2645574178.py:26: FutureWarning: suggest_uniform has been deprecated in v3.0.0. This feature will be removed in v6.0.0. See https://github.com/optuna/optuna/releases/tag/v3.0.0. Use suggest_float instead.\n",
      "  'feature_fraction': trial.suggest_uniform('feature_fraction', 0.7, 1.0),\n",
      "C:\\Users\\khasanboev\\AppData\\Local\\Temp\\ipykernel_6136\\2645574178.py:27: FutureWarning: suggest_loguniform has been deprecated in v3.0.0. This feature will be removed in v6.0.0. See https://github.com/optuna/optuna/releases/tag/v3.0.0. Use suggest_float(..., log=True) instead.\n",
      "  'lambda_l1': trial.suggest_loguniform('lambda_l1', 1, 10.0),\n",
      "C:\\Users\\khasanboev\\AppData\\Local\\Temp\\ipykernel_6136\\2645574178.py:28: FutureWarning: suggest_loguniform has been deprecated in v3.0.0. This feature will be removed in v6.0.0. See https://github.com/optuna/optuna/releases/tag/v3.0.0. Use suggest_float(..., log=True) instead.\n",
      "  'lambda_l2': trial.suggest_loguniform('lambda_l2', 1, 10.0),\n",
      "C:\\Users\\khasanboev\\AppData\\Local\\Temp\\ipykernel_6136\\2645574178.py:30: FutureWarning: suggest_uniform has been deprecated in v3.0.0. This feature will be removed in v6.0.0. See https://github.com/optuna/optuna/releases/tag/v3.0.0. Use suggest_float instead.\n",
      "  'bagging_fraction': trial.suggest_uniform('bagging_fraction', 0.5, 1.0),\n",
      "C:\\Users\\khasanboev\\AppData\\Local\\Temp\\ipykernel_6136\\2645574178.py:35: FutureWarning: suggest_loguniform has been deprecated in v3.0.0. This feature will be removed in v6.0.0. See https://github.com/optuna/optuna/releases/tag/v3.0.0. Use suggest_float(..., log=True) instead.\n",
      "  'cat_l2': trial.suggest_loguniform('cat_l2', 1e-3, 10.0),\n",
      "C:\\Users\\khasanboev\\AppData\\Local\\Temp\\ipykernel_6136\\2645574178.py:24: FutureWarning: suggest_loguniform has been deprecated in v3.0.0. This feature will be removed in v6.0.0. See https://github.com/optuna/optuna/releases/tag/v3.0.0. Use suggest_float(..., log=True) instead.\n",
      "  'min_gain_to_split': trial.suggest_loguniform('min_gain_to_split', 0.05, 0.3),\n",
      "C:\\Users\\khasanboev\\AppData\\Local\\Temp\\ipykernel_6136\\2645574178.py:26: FutureWarning: suggest_uniform has been deprecated in v3.0.0. This feature will be removed in v6.0.0. See https://github.com/optuna/optuna/releases/tag/v3.0.0. Use suggest_float instead.\n",
      "  'feature_fraction': trial.suggest_uniform('feature_fraction', 0.7, 1.0),\n",
      "C:\\Users\\khasanboev\\AppData\\Local\\Temp\\ipykernel_6136\\2645574178.py:28: FutureWarning: suggest_loguniform has been deprecated in v3.0.0. This feature will be removed in v6.0.0. See https://github.com/optuna/optuna/releases/tag/v3.0.0. Use suggest_float(..., log=True) instead.\n",
      "  'lambda_l2': trial.suggest_loguniform('lambda_l2', 1, 10.0),\n",
      "C:\\Users\\khasanboev\\AppData\\Local\\Temp\\ipykernel_6136\\2645574178.py:27: FutureWarning: suggest_loguniform has been deprecated in v3.0.0. This feature will be removed in v6.0.0. See https://github.com/optuna/optuna/releases/tag/v3.0.0. Use suggest_float(..., log=True) instead.\n",
      "  'lambda_l1': trial.suggest_loguniform('lambda_l1', 1, 10.0),\n",
      "C:\\Users\\khasanboev\\AppData\\Local\\Temp\\ipykernel_6136\\2645574178.py:30: FutureWarning: suggest_uniform has been deprecated in v3.0.0. This feature will be removed in v6.0.0. See https://github.com/optuna/optuna/releases/tag/v3.0.0. Use suggest_float instead.\n",
      "  'bagging_fraction': trial.suggest_uniform('bagging_fraction', 0.5, 1.0),\n"
     ]
    },
    {
     "name": "stderr",
     "output_type": "stream",
     "text": [
      "C:\\Users\\khasanboev\\AppData\\Local\\Temp\\ipykernel_6136\\2645574178.py:35: FutureWarning: suggest_loguniform has been deprecated in v3.0.0. This feature will be removed in v6.0.0. See https://github.com/optuna/optuna/releases/tag/v3.0.0. Use suggest_float(..., log=True) instead.\n",
      "  'cat_l2': trial.suggest_loguniform('cat_l2', 1e-3, 10.0),\n",
      "C:\\Users\\khasanboev\\AppData\\Local\\Temp\\ipykernel_6136\\2645574178.py:32: FutureWarning: suggest_uniform has been deprecated in v3.0.0. This feature will be removed in v6.0.0. See https://github.com/optuna/optuna/releases/tag/v3.0.0. Use suggest_float instead.\n",
      "  'feature_fraction_bynode': trial.suggest_uniform('feature_fraction_bynode', 0.5, 1.0),\n",
      "C:\\Users\\khasanboev\\AppData\\Local\\Temp\\ipykernel_6136\\2645574178.py:23: FutureWarning: suggest_loguniform has been deprecated in v3.0.0. This feature will be removed in v6.0.0. See https://github.com/optuna/optuna/releases/tag/v3.0.0. Use suggest_float(..., log=True) instead.\n",
      "  'learning_rate': trial.suggest_loguniform('learning_rate', 0.1, 0.6),\n",
      "C:\\Users\\khasanboev\\AppData\\Local\\Temp\\ipykernel_6136\\2645574178.py:33: FutureWarning: suggest_loguniform has been deprecated in v3.0.0. This feature will be removed in v6.0.0. See https://github.com/optuna/optuna/releases/tag/v3.0.0. Use suggest_float(..., log=True) instead.\n",
      "  'min_sum_hessian_in_leaf': trial.suggest_loguniform('min_sum_hessian_in_leaf', 1e-3, 10.0),\n",
      "C:\\Users\\khasanboev\\AppData\\Local\\Temp\\ipykernel_6136\\2645574178.py:32: FutureWarning: suggest_uniform has been deprecated in v3.0.0. This feature will be removed in v6.0.0. See https://github.com/optuna/optuna/releases/tag/v3.0.0. Use suggest_float instead.\n",
      "  'feature_fraction_bynode': trial.suggest_uniform('feature_fraction_bynode', 0.5, 1.0),\n",
      "C:\\Users\\khasanboev\\AppData\\Local\\Temp\\ipykernel_6136\\2645574178.py:33: FutureWarning: suggest_loguniform has been deprecated in v3.0.0. This feature will be removed in v6.0.0. See https://github.com/optuna/optuna/releases/tag/v3.0.0. Use suggest_float(..., log=True) instead.\n",
      "  'min_sum_hessian_in_leaf': trial.suggest_loguniform('min_sum_hessian_in_leaf', 1e-3, 10.0),\n",
      "C:\\Users\\khasanboev\\AppData\\Local\\Temp\\ipykernel_6136\\2645574178.py:24: FutureWarning: suggest_loguniform has been deprecated in v3.0.0. This feature will be removed in v6.0.0. See https://github.com/optuna/optuna/releases/tag/v3.0.0. Use suggest_float(..., log=True) instead.\n",
      "  'min_gain_to_split': trial.suggest_loguniform('min_gain_to_split', 0.05, 0.3),\n",
      "C:\\Users\\khasanboev\\AppData\\Local\\Temp\\ipykernel_6136\\2645574178.py:26: FutureWarning: suggest_uniform has been deprecated in v3.0.0. This feature will be removed in v6.0.0. See https://github.com/optuna/optuna/releases/tag/v3.0.0. Use suggest_float instead.\n",
      "  'feature_fraction': trial.suggest_uniform('feature_fraction', 0.7, 1.0),\n",
      "C:\\Users\\khasanboev\\AppData\\Local\\Temp\\ipykernel_6136\\2645574178.py:35: FutureWarning: suggest_loguniform has been deprecated in v3.0.0. This feature will be removed in v6.0.0. See https://github.com/optuna/optuna/releases/tag/v3.0.0. Use suggest_float(..., log=True) instead.\n",
      "  'cat_l2': trial.suggest_loguniform('cat_l2', 1e-3, 10.0),\n",
      "C:\\Users\\khasanboev\\AppData\\Local\\Temp\\ipykernel_6136\\2645574178.py:27: FutureWarning: suggest_loguniform has been deprecated in v3.0.0. This feature will be removed in v6.0.0. See https://github.com/optuna/optuna/releases/tag/v3.0.0. Use suggest_float(..., log=True) instead.\n",
      "  'lambda_l1': trial.suggest_loguniform('lambda_l1', 1, 10.0),\n",
      "C:\\Users\\khasanboev\\AppData\\Local\\Temp\\ipykernel_6136\\2645574178.py:28: FutureWarning: suggest_loguniform has been deprecated in v3.0.0. This feature will be removed in v6.0.0. See https://github.com/optuna/optuna/releases/tag/v3.0.0. Use suggest_float(..., log=True) instead.\n",
      "  'lambda_l2': trial.suggest_loguniform('lambda_l2', 1, 10.0),\n",
      "C:\\Users\\khasanboev\\AppData\\Local\\Temp\\ipykernel_6136\\2645574178.py:30: FutureWarning: suggest_uniform has been deprecated in v3.0.0. This feature will be removed in v6.0.0. See https://github.com/optuna/optuna/releases/tag/v3.0.0. Use suggest_float instead.\n",
      "  'bagging_fraction': trial.suggest_uniform('bagging_fraction', 0.5, 1.0),\n",
      "C:\\Users\\khasanboev\\AppData\\Local\\Temp\\ipykernel_6136\\2645574178.py:32: FutureWarning: suggest_uniform has been deprecated in v3.0.0. This feature will be removed in v6.0.0. See https://github.com/optuna/optuna/releases/tag/v3.0.0. Use suggest_float instead.\n",
      "  'feature_fraction_bynode': trial.suggest_uniform('feature_fraction_bynode', 0.5, 1.0),\n",
      "[W 2024-09-21 23:55:07,924] Trial 4 failed with parameters: {'num_leaves': 293, 'learning_rate': 0.4718759541968427, 'min_gain_to_split': 0.2956140010626475, 'min_data_in_leaf': 16, 'feature_fraction': 0.7701707973351114, 'lambda_l1': 4.064772623170804, 'lambda_l2': 3.6900313191251337, 'bagging_fraction': 0.5179212855450029, 'bagging_freq': 5, 'feature_fraction_bynode': 0.559863986720158, 'min_sum_hessian_in_leaf': 1.1056031840302774, 'cat_smooth': 52, 'cat_l2': 0.001324129856401846, 'max_bin': 392} because of the following error: MemoryError((386, 785716), dtype('float64')).\n",
      "Traceback (most recent call last):\n",
      "  File \"C:\\Users\\khasanboev\\AppData\\Roaming\\Python\\Python311\\site-packages\\optuna\\study\\_optimize.py\", line 196, in _run_trial\n",
      "    value_or_values = func(trial)\n",
      "                      ^^^^^^^^^^^\n",
      "  File \"C:\\Users\\khasanboev\\AppData\\Local\\Temp\\ipykernel_6136\\2645574178.py\", line 44, in objective\n",
      "    gbm = lgb.train(\n",
      "          ^^^^^^^^^^\n",
      "  File \"C:\\Users\\khasanboev\\AppData\\Roaming\\Python\\Python311\\site-packages\\lightgbm\\engine.py\", line 282, in train\n",
      "    booster = Booster(params=params, train_set=train_set)\n",
      "              ^^^^^^^^^^^^^^^^^^^^^^^^^^^^^^^^^^^^^^^^^^^\n",
      "  File \"C:\\Users\\khasanboev\\AppData\\Roaming\\Python\\Python311\\site-packages\\lightgbm\\basic.py\", line 3627, in __init__\n",
      "    train_set.construct()\n",
      "  File \"C:\\Users\\khasanboev\\AppData\\Roaming\\Python\\Python311\\site-packages\\lightgbm\\basic.py\", line 2566, in construct\n",
      "    self._lazy_init(\n",
      "  File \"C:\\Users\\khasanboev\\AppData\\Roaming\\Python\\Python311\\site-packages\\lightgbm\\basic.py\", line 2096, in _lazy_init\n",
      "    data, feature_name, categorical_feature, self.pandas_categorical = _data_from_pandas(\n",
      "                                                                       ^^^^^^^^^^^^^^^^^^\n",
      "  File \"C:\\Users\\khasanboev\\AppData\\Roaming\\Python\\Python311\\site-packages\\lightgbm\\basic.py\", line 846, in _data_from_pandas\n",
      "    _pandas_to_numpy(data, target_dtype=target_dtype),\n",
      "    ^^^^^^^^^^^^^^^^^^^^^^^^^^^^^^^^^^^^^^^^^^^^^^^^^\n",
      "  File \"C:\\Users\\khasanboev\\AppData\\Roaming\\Python\\Python311\\site-packages\\lightgbm\\basic.py\", line 795, in _pandas_to_numpy\n",
      "    return data.to_numpy(dtype=target_dtype, copy=False)\n",
      "           ^^^^^^^^^^^^^^^^^^^^^^^^^^^^^^^^^^^^^^^^^^^^^\n",
      "  File \"C:\\ProgramData\\anaconda3\\Lib\\site-packages\\pandas\\core\\frame.py\", line 1838, in to_numpy\n",
      "    result = self._mgr.as_array(dtype=dtype, copy=copy, na_value=na_value)\n",
      "             ^^^^^^^^^^^^^^^^^^^^^^^^^^^^^^^^^^^^^^^^^^^^^^^^^^^^^^^^^^^^^\n",
      "  File \"C:\\ProgramData\\anaconda3\\Lib\\site-packages\\pandas\\core\\internals\\managers.py\", line 1732, in as_array\n",
      "    arr = self._interleave(dtype=dtype, na_value=na_value)\n",
      "          ^^^^^^^^^^^^^^^^^^^^^^^^^^^^^^^^^^^^^^^^^^^^^^^^\n",
      "  File \"C:\\ProgramData\\anaconda3\\Lib\\site-packages\\pandas\\core\\internals\\managers.py\", line 1768, in _interleave\n",
      "    result = np.empty(self.shape, dtype=dtype)\n",
      "             ^^^^^^^^^^^^^^^^^^^^^^^^^^^^^^^^^\n",
      "numpy.core._exceptions._ArrayMemoryError: Unable to allocate 2.26 GiB for an array with shape (386, 785716) and data type float64\n",
      "C:\\Users\\khasanboev\\AppData\\Local\\Temp\\ipykernel_6136\\2645574178.py:33: FutureWarning: suggest_loguniform has been deprecated in v3.0.0. This feature will be removed in v6.0.0. See https://github.com/optuna/optuna/releases/tag/v3.0.0. Use suggest_float(..., log=True) instead.\n",
      "  'min_sum_hessian_in_leaf': trial.suggest_loguniform('min_sum_hessian_in_leaf', 1e-3, 10.0),\n",
      "C:\\Users\\khasanboev\\AppData\\Local\\Temp\\ipykernel_6136\\2645574178.py:35: FutureWarning: suggest_loguniform has been deprecated in v3.0.0. This feature will be removed in v6.0.0. See https://github.com/optuna/optuna/releases/tag/v3.0.0. Use suggest_float(..., log=True) instead.\n",
      "  'cat_l2': trial.suggest_loguniform('cat_l2', 1e-3, 10.0),\n"
     ]
    },
    {
     "name": "stderr",
     "output_type": "stream",
     "text": [
      "[W 2024-09-21 23:55:09,081] Trial 5 failed with parameters: {'num_leaves': 117, 'learning_rate': 0.14185993806339137, 'min_gain_to_split': 0.13476974447189885, 'min_data_in_leaf': 20, 'feature_fraction': 0.8427084092478409, 'lambda_l1': 7.251079463425616, 'lambda_l2': 7.288409365131706, 'bagging_fraction': 0.6212792863005139, 'bagging_freq': 5, 'feature_fraction_bynode': 0.6389130675423991, 'min_sum_hessian_in_leaf': 0.009788897964036737, 'cat_smooth': 86, 'cat_l2': 3.0703702485638638, 'max_bin': 199} because of the following error: MemoryError((386, 785716), dtype('float64')).\n",
      "Traceback (most recent call last):\n",
      "  File \"C:\\Users\\khasanboev\\AppData\\Roaming\\Python\\Python311\\site-packages\\optuna\\study\\_optimize.py\", line 196, in _run_trial\n",
      "    value_or_values = func(trial)\n",
      "                      ^^^^^^^^^^^\n",
      "  File \"C:\\Users\\khasanboev\\AppData\\Local\\Temp\\ipykernel_6136\\2645574178.py\", line 44, in objective\n",
      "    gbm = lgb.train(\n",
      "          ^^^^^^^^^^\n",
      "  File \"C:\\Users\\khasanboev\\AppData\\Roaming\\Python\\Python311\\site-packages\\lightgbm\\engine.py\", line 282, in train\n",
      "    booster = Booster(params=params, train_set=train_set)\n",
      "              ^^^^^^^^^^^^^^^^^^^^^^^^^^^^^^^^^^^^^^^^^^^\n",
      "  File \"C:\\Users\\khasanboev\\AppData\\Roaming\\Python\\Python311\\site-packages\\lightgbm\\basic.py\", line 3627, in __init__\n",
      "    train_set.construct()\n",
      "  File \"C:\\Users\\khasanboev\\AppData\\Roaming\\Python\\Python311\\site-packages\\lightgbm\\basic.py\", line 2566, in construct\n",
      "    self._lazy_init(\n",
      "  File \"C:\\Users\\khasanboev\\AppData\\Roaming\\Python\\Python311\\site-packages\\lightgbm\\basic.py\", line 2096, in _lazy_init\n",
      "    data, feature_name, categorical_feature, self.pandas_categorical = _data_from_pandas(\n",
      "                                                                       ^^^^^^^^^^^^^^^^^^\n",
      "  File \"C:\\Users\\khasanboev\\AppData\\Roaming\\Python\\Python311\\site-packages\\lightgbm\\basic.py\", line 846, in _data_from_pandas\n",
      "    _pandas_to_numpy(data, target_dtype=target_dtype),\n",
      "    ^^^^^^^^^^^^^^^^^^^^^^^^^^^^^^^^^^^^^^^^^^^^^^^^^\n",
      "  File \"C:\\Users\\khasanboev\\AppData\\Roaming\\Python\\Python311\\site-packages\\lightgbm\\basic.py\", line 795, in _pandas_to_numpy\n",
      "    return data.to_numpy(dtype=target_dtype, copy=False)\n",
      "           ^^^^^^^^^^^^^^^^^^^^^^^^^^^^^^^^^^^^^^^^^^^^^\n",
      "  File \"C:\\ProgramData\\anaconda3\\Lib\\site-packages\\pandas\\core\\frame.py\", line 1838, in to_numpy\n",
      "    result = self._mgr.as_array(dtype=dtype, copy=copy, na_value=na_value)\n",
      "             ^^^^^^^^^^^^^^^^^^^^^^^^^^^^^^^^^^^^^^^^^^^^^^^^^^^^^^^^^^^^^\n",
      "  File \"C:\\ProgramData\\anaconda3\\Lib\\site-packages\\pandas\\core\\internals\\managers.py\", line 1732, in as_array\n",
      "    arr = self._interleave(dtype=dtype, na_value=na_value)\n",
      "          ^^^^^^^^^^^^^^^^^^^^^^^^^^^^^^^^^^^^^^^^^^^^^^^^\n",
      "  File \"C:\\ProgramData\\anaconda3\\Lib\\site-packages\\pandas\\core\\internals\\managers.py\", line 1768, in _interleave\n",
      "    result = np.empty(self.shape, dtype=dtype)\n",
      "             ^^^^^^^^^^^^^^^^^^^^^^^^^^^^^^^^^\n",
      "numpy.core._exceptions._ArrayMemoryError: Unable to allocate 2.26 GiB for an array with shape (386, 785716) and data type float64\n",
      "[W 2024-09-21 23:55:09,406] Trial 4 failed with value None.\n",
      "[W 2024-09-21 23:55:10,096] Trial 5 failed with value None.\n",
      "[W 2024-09-21 23:55:15,086] Trial 1 failed with parameters: {'num_leaves': 136, 'learning_rate': 0.4345409443179269, 'min_gain_to_split': 0.15663039698292477, 'min_data_in_leaf': 10, 'feature_fraction': 0.8008824648456974, 'lambda_l1': 1.423185180167361, 'lambda_l2': 6.380278418318452, 'bagging_fraction': 0.7206897860062307, 'bagging_freq': 0, 'feature_fraction_bynode': 0.9053739391470566, 'min_sum_hessian_in_leaf': 0.017868581802766327, 'cat_smooth': 19, 'cat_l2': 6.281071497132484, 'max_bin': 190} because of the following error: MemoryError((785716, 386), dtype('float64')).\n",
      "Traceback (most recent call last):\n",
      "  File \"C:\\Users\\khasanboev\\AppData\\Roaming\\Python\\Python311\\site-packages\\optuna\\study\\_optimize.py\", line 196, in _run_trial\n",
      "    value_or_values = func(trial)\n",
      "                      ^^^^^^^^^^^\n",
      "  File \"C:\\Users\\khasanboev\\AppData\\Local\\Temp\\ipykernel_6136\\2645574178.py\", line 44, in objective\n",
      "    gbm = lgb.train(\n",
      "          ^^^^^^^^^^\n",
      "  File \"C:\\Users\\khasanboev\\AppData\\Roaming\\Python\\Python311\\site-packages\\lightgbm\\engine.py\", line 282, in train\n",
      "    booster = Booster(params=params, train_set=train_set)\n",
      "              ^^^^^^^^^^^^^^^^^^^^^^^^^^^^^^^^^^^^^^^^^^^\n",
      "  File \"C:\\Users\\khasanboev\\AppData\\Roaming\\Python\\Python311\\site-packages\\lightgbm\\basic.py\", line 3627, in __init__\n",
      "    train_set.construct()\n",
      "  File \"C:\\Users\\khasanboev\\AppData\\Roaming\\Python\\Python311\\site-packages\\lightgbm\\basic.py\", line 2566, in construct\n",
      "    self._lazy_init(\n",
      "  File \"C:\\Users\\khasanboev\\AppData\\Roaming\\Python\\Python311\\site-packages\\lightgbm\\basic.py\", line 2158, in _lazy_init\n",
      "    self.__init_from_np2d(data, params_str, ref_dataset)\n",
      "  File \"C:\\Users\\khasanboev\\AppData\\Roaming\\Python\\Python311\\site-packages\\lightgbm\\basic.py\", line 2288, in __init_from_np2d\n",
      "    data = np.asarray(mat.reshape(mat.size), dtype=mat.dtype)\n",
      "                      ^^^^^^^^^^^^^^^^^^^^^\n",
      "numpy.core._exceptions._ArrayMemoryError: Unable to allocate 2.26 GiB for an array with shape (785716, 386) and data type float64\n",
      "[W 2024-09-21 23:55:15,157] Trial 1 failed with value None.\n",
      "[W 2024-09-21 23:55:15,469] Trial 2 failed with parameters: {'num_leaves': 137, 'learning_rate': 0.17538432355168926, 'min_gain_to_split': 0.05121825261450569, 'min_data_in_leaf': 6, 'feature_fraction': 0.7452254484748793, 'lambda_l1': 4.1737741610432355, 'lambda_l2': 4.475281225978607, 'bagging_fraction': 0.5839584249017363, 'bagging_freq': 5, 'feature_fraction_bynode': 0.6626194939728837, 'min_sum_hessian_in_leaf': 0.0015455391572153083, 'cat_smooth': 60, 'cat_l2': 0.0651117651001523, 'max_bin': 376} because of the following error: MemoryError((785716, 386), dtype('float64')).\n",
      "Traceback (most recent call last):\n",
      "  File \"C:\\Users\\khasanboev\\AppData\\Roaming\\Python\\Python311\\site-packages\\optuna\\study\\_optimize.py\", line 196, in _run_trial\n",
      "    value_or_values = func(trial)\n",
      "                      ^^^^^^^^^^^\n",
      "  File \"C:\\Users\\khasanboev\\AppData\\Local\\Temp\\ipykernel_6136\\2645574178.py\", line 44, in objective\n",
      "    gbm = lgb.train(\n",
      "          ^^^^^^^^^^\n",
      "  File \"C:\\Users\\khasanboev\\AppData\\Roaming\\Python\\Python311\\site-packages\\lightgbm\\engine.py\", line 282, in train\n",
      "    booster = Booster(params=params, train_set=train_set)\n",
      "              ^^^^^^^^^^^^^^^^^^^^^^^^^^^^^^^^^^^^^^^^^^^\n",
      "  File \"C:\\Users\\khasanboev\\AppData\\Roaming\\Python\\Python311\\site-packages\\lightgbm\\basic.py\", line 3627, in __init__\n",
      "    train_set.construct()\n",
      "  File \"C:\\Users\\khasanboev\\AppData\\Roaming\\Python\\Python311\\site-packages\\lightgbm\\basic.py\", line 2566, in construct\n",
      "    self._lazy_init(\n",
      "  File \"C:\\Users\\khasanboev\\AppData\\Roaming\\Python\\Python311\\site-packages\\lightgbm\\basic.py\", line 2158, in _lazy_init\n",
      "    self.__init_from_np2d(data, params_str, ref_dataset)\n",
      "  File \"C:\\Users\\khasanboev\\AppData\\Roaming\\Python\\Python311\\site-packages\\lightgbm\\basic.py\", line 2288, in __init_from_np2d\n",
      "    data = np.asarray(mat.reshape(mat.size), dtype=mat.dtype)\n",
      "                      ^^^^^^^^^^^^^^^^^^^^^\n",
      "numpy.core._exceptions._ArrayMemoryError: Unable to allocate 2.26 GiB for an array with shape (785716, 386) and data type float64\n",
      "[W 2024-09-21 23:55:15,471] Trial 2 failed with value None.\n",
      "[W 2024-09-21 23:55:23,069] Trial 6 failed with parameters: {'num_leaves': 290, 'learning_rate': 0.14590465286483537, 'min_gain_to_split': 0.13645989756304255, 'min_data_in_leaf': 5, 'feature_fraction': 0.9856381293445615, 'lambda_l1': 4.589281306826672, 'lambda_l2': 2.895534769545296, 'bagging_fraction': 0.8991709558384731, 'bagging_freq': 3, 'feature_fraction_bynode': 0.9982135619994588, 'min_sum_hessian_in_leaf': 2.294075013466844, 'cat_smooth': 35, 'cat_l2': 9.214915420431367, 'max_bin': 298} because of the following error: MemoryError((785716, 386), dtype('float64')).\n",
      "Traceback (most recent call last):\n",
      "  File \"C:\\Users\\khasanboev\\AppData\\Roaming\\Python\\Python311\\site-packages\\optuna\\study\\_optimize.py\", line 196, in _run_trial\n",
      "    value_or_values = func(trial)\n",
      "                      ^^^^^^^^^^^\n",
      "  File \"C:\\Users\\khasanboev\\AppData\\Local\\Temp\\ipykernel_6136\\2645574178.py\", line 44, in objective\n",
      "    gbm = lgb.train(\n",
      "          ^^^^^^^^^^\n",
      "  File \"C:\\Users\\khasanboev\\AppData\\Roaming\\Python\\Python311\\site-packages\\lightgbm\\engine.py\", line 282, in train\n",
      "    booster = Booster(params=params, train_set=train_set)\n",
      "              ^^^^^^^^^^^^^^^^^^^^^^^^^^^^^^^^^^^^^^^^^^^\n",
      "  File \"C:\\Users\\khasanboev\\AppData\\Roaming\\Python\\Python311\\site-packages\\lightgbm\\basic.py\", line 3627, in __init__\n",
      "    train_set.construct()\n",
      "  File \"C:\\Users\\khasanboev\\AppData\\Roaming\\Python\\Python311\\site-packages\\lightgbm\\basic.py\", line 2566, in construct\n",
      "    self._lazy_init(\n",
      "  File \"C:\\Users\\khasanboev\\AppData\\Roaming\\Python\\Python311\\site-packages\\lightgbm\\basic.py\", line 2158, in _lazy_init\n",
      "    self.__init_from_np2d(data, params_str, ref_dataset)\n",
      "  File \"C:\\Users\\khasanboev\\AppData\\Roaming\\Python\\Python311\\site-packages\\lightgbm\\basic.py\", line 2288, in __init_from_np2d\n",
      "    data = np.asarray(mat.reshape(mat.size), dtype=mat.dtype)\n",
      "                      ^^^^^^^^^^^^^^^^^^^^^\n",
      "numpy.core._exceptions._ArrayMemoryError: Unable to allocate 2.26 GiB for an array with shape (785716, 386) and data type float64\n"
     ]
    },
    {
     "name": "stderr",
     "output_type": "stream",
     "text": [
      "[W 2024-09-21 23:55:23,049] Trial 3 failed with parameters: {'num_leaves': 104, 'learning_rate': 0.2864636846043023, 'min_gain_to_split': 0.1589250107951375, 'min_data_in_leaf': 14, 'feature_fraction': 0.7061121625401021, 'lambda_l1': 5.60712935311493, 'lambda_l2': 1.534762044347944, 'bagging_fraction': 0.5973278818683267, 'bagging_freq': 5, 'feature_fraction_bynode': 0.6616797841752633, 'min_sum_hessian_in_leaf': 0.4070537826334579, 'cat_smooth': 44, 'cat_l2': 0.5429984403869498, 'max_bin': 350} because of the following error: MemoryError((785716, 386), dtype('float64')).\n",
      "Traceback (most recent call last):\n",
      "  File \"C:\\Users\\khasanboev\\AppData\\Roaming\\Python\\Python311\\site-packages\\optuna\\study\\_optimize.py\", line 196, in _run_trial\n",
      "    value_or_values = func(trial)\n",
      "                      ^^^^^^^^^^^\n",
      "  File \"C:\\Users\\khasanboev\\AppData\\Local\\Temp\\ipykernel_6136\\2645574178.py\", line 44, in objective\n",
      "    gbm = lgb.train(\n",
      "          ^^^^^^^^^^\n",
      "  File \"C:\\Users\\khasanboev\\AppData\\Roaming\\Python\\Python311\\site-packages\\lightgbm\\engine.py\", line 282, in train\n",
      "    booster = Booster(params=params, train_set=train_set)\n",
      "              ^^^^^^^^^^^^^^^^^^^^^^^^^^^^^^^^^^^^^^^^^^^\n",
      "  File \"C:\\Users\\khasanboev\\AppData\\Roaming\\Python\\Python311\\site-packages\\lightgbm\\basic.py\", line 3627, in __init__\n",
      "    train_set.construct()\n",
      "  File \"C:\\Users\\khasanboev\\AppData\\Roaming\\Python\\Python311\\site-packages\\lightgbm\\basic.py\", line 2566, in construct\n",
      "    self._lazy_init(\n",
      "  File \"C:\\Users\\khasanboev\\AppData\\Roaming\\Python\\Python311\\site-packages\\lightgbm\\basic.py\", line 2158, in _lazy_init\n",
      "    self.__init_from_np2d(data, params_str, ref_dataset)\n",
      "  File \"C:\\Users\\khasanboev\\AppData\\Roaming\\Python\\Python311\\site-packages\\lightgbm\\basic.py\", line 2288, in __init_from_np2d\n",
      "    data = np.asarray(mat.reshape(mat.size), dtype=mat.dtype)\n",
      "                      ^^^^^^^^^^^^^^^^^^^^^\n",
      "numpy.core._exceptions._ArrayMemoryError: Unable to allocate 2.26 GiB for an array with shape (785716, 386) and data type float64\n",
      "[W 2024-09-21 23:55:23,201] Trial 6 failed with value None.\n",
      "[W 2024-09-21 23:55:23,211] Trial 3 failed with value None.\n",
      "[W 2024-09-21 23:55:23,434] Trial 7 failed with parameters: {'num_leaves': 185, 'learning_rate': 0.24564698505789914, 'min_gain_to_split': 0.16293062235159259, 'min_data_in_leaf': 7, 'feature_fraction': 0.8048786807218442, 'lambda_l1': 5.49737030339059, 'lambda_l2': 5.287652825834135, 'bagging_fraction': 0.6319455893611265, 'bagging_freq': 2, 'feature_fraction_bynode': 0.5985342533096523, 'min_sum_hessian_in_leaf': 0.001862405488855265, 'cat_smooth': 17, 'cat_l2': 1.9269381109914672, 'max_bin': 106} because of the following error: MemoryError((785716, 386), dtype('float64')).\n",
      "Traceback (most recent call last):\n",
      "  File \"C:\\Users\\khasanboev\\AppData\\Roaming\\Python\\Python311\\site-packages\\optuna\\study\\_optimize.py\", line 196, in _run_trial\n",
      "    value_or_values = func(trial)\n",
      "                      ^^^^^^^^^^^\n",
      "  File \"C:\\Users\\khasanboev\\AppData\\Local\\Temp\\ipykernel_6136\\2645574178.py\", line 44, in objective\n",
      "    gbm = lgb.train(\n",
      "          ^^^^^^^^^^\n",
      "  File \"C:\\Users\\khasanboev\\AppData\\Roaming\\Python\\Python311\\site-packages\\lightgbm\\engine.py\", line 282, in train\n",
      "    booster = Booster(params=params, train_set=train_set)\n",
      "              ^^^^^^^^^^^^^^^^^^^^^^^^^^^^^^^^^^^^^^^^^^^\n",
      "  File \"C:\\Users\\khasanboev\\AppData\\Roaming\\Python\\Python311\\site-packages\\lightgbm\\basic.py\", line 3627, in __init__\n",
      "    train_set.construct()\n",
      "  File \"C:\\Users\\khasanboev\\AppData\\Roaming\\Python\\Python311\\site-packages\\lightgbm\\basic.py\", line 2566, in construct\n",
      "    self._lazy_init(\n",
      "  File \"C:\\Users\\khasanboev\\AppData\\Roaming\\Python\\Python311\\site-packages\\lightgbm\\basic.py\", line 2158, in _lazy_init\n",
      "    self.__init_from_np2d(data, params_str, ref_dataset)\n",
      "  File \"C:\\Users\\khasanboev\\AppData\\Roaming\\Python\\Python311\\site-packages\\lightgbm\\basic.py\", line 2288, in __init_from_np2d\n",
      "    data = np.asarray(mat.reshape(mat.size), dtype=mat.dtype)\n",
      "                      ^^^^^^^^^^^^^^^^^^^^^\n",
      "numpy.core._exceptions._ArrayMemoryError: Unable to allocate 2.26 GiB for an array with shape (785716, 386) and data type float64\n",
      "[W 2024-09-21 23:55:23,444] Trial 7 failed with value None.\n",
      "[I 2024-09-22 00:02:09,777] Trial 0 finished with value: 3984.66825767971 and parameters: {'num_leaves': 274, 'learning_rate': 0.10319913126910912, 'min_gain_to_split': 0.05543551127549625, 'min_data_in_leaf': 7, 'feature_fraction': 0.8955540937137763, 'lambda_l1': 1.7697986028539465, 'lambda_l2': 1.0412669725884134, 'bagging_fraction': 0.5088529090347558, 'bagging_freq': 5, 'feature_fraction_bynode': 0.5360163746691788, 'min_sum_hessian_in_leaf': 0.11592897087021975, 'cat_smooth': 22, 'cat_l2': 4.836037643275963, 'max_bin': 232}. Best is trial 0 with value: 3984.66825767971.\n"
     ]
    },
    {
     "ename": "MemoryError",
     "evalue": "Unable to allocate 2.26 GiB for an array with shape (386, 785716) and data type float64",
     "output_type": "error",
     "traceback": [
      "\u001b[1;31m---------------------------------------------------------------------------\u001b[0m",
      "\u001b[1;31mMemoryError\u001b[0m                               Traceback (most recent call last)",
      "Cell \u001b[1;32mIn[34], line 60\u001b[0m\n\u001b[0;32m     58\u001b[0m \u001b[38;5;66;03m# Create a study object and optimize the objective function\u001b[39;00m\n\u001b[0;32m     59\u001b[0m study \u001b[38;5;241m=\u001b[39m optuna\u001b[38;5;241m.\u001b[39mcreate_study(direction\u001b[38;5;241m=\u001b[39m\u001b[38;5;124m'\u001b[39m\u001b[38;5;124mminimize\u001b[39m\u001b[38;5;124m'\u001b[39m)\n\u001b[1;32m---> 60\u001b[0m study\u001b[38;5;241m.\u001b[39moptimize(objective, n_trials\u001b[38;5;241m=\u001b[39m\u001b[38;5;241m200\u001b[39m, n_jobs\u001b[38;5;241m=\u001b[39m\u001b[38;5;241m-\u001b[39m\u001b[38;5;241m1\u001b[39m)\n\u001b[0;32m     62\u001b[0m \u001b[38;5;66;03m# Print the best parameters and the best score\u001b[39;00m\n\u001b[0;32m     63\u001b[0m \u001b[38;5;28mprint\u001b[39m(\u001b[38;5;124m\"\u001b[39m\u001b[38;5;124mBest parameters found: \u001b[39m\u001b[38;5;124m\"\u001b[39m, study\u001b[38;5;241m.\u001b[39mbest_params)\n",
      "File \u001b[1;32m~\\AppData\\Roaming\\Python\\Python311\\site-packages\\optuna\\study\\study.py:451\u001b[0m, in \u001b[0;36mStudy.optimize\u001b[1;34m(self, func, n_trials, timeout, n_jobs, catch, callbacks, gc_after_trial, show_progress_bar)\u001b[0m\n\u001b[0;32m    348\u001b[0m \u001b[38;5;28;01mdef\u001b[39;00m \u001b[38;5;21moptimize\u001b[39m(\n\u001b[0;32m    349\u001b[0m     \u001b[38;5;28mself\u001b[39m,\n\u001b[0;32m    350\u001b[0m     func: ObjectiveFuncType,\n\u001b[1;32m   (...)\u001b[0m\n\u001b[0;32m    357\u001b[0m     show_progress_bar: \u001b[38;5;28mbool\u001b[39m \u001b[38;5;241m=\u001b[39m \u001b[38;5;28;01mFalse\u001b[39;00m,\n\u001b[0;32m    358\u001b[0m ) \u001b[38;5;241m-\u001b[39m\u001b[38;5;241m>\u001b[39m \u001b[38;5;28;01mNone\u001b[39;00m:\n\u001b[0;32m    359\u001b[0m \u001b[38;5;250m    \u001b[39m\u001b[38;5;124;03m\"\"\"Optimize an objective function.\u001b[39;00m\n\u001b[0;32m    360\u001b[0m \n\u001b[0;32m    361\u001b[0m \u001b[38;5;124;03m    Optimization is done by choosing a suitable set of hyperparameter values from a given\u001b[39;00m\n\u001b[1;32m   (...)\u001b[0m\n\u001b[0;32m    449\u001b[0m \u001b[38;5;124;03m            If nested invocation of this method occurs.\u001b[39;00m\n\u001b[0;32m    450\u001b[0m \u001b[38;5;124;03m    \"\"\"\u001b[39;00m\n\u001b[1;32m--> 451\u001b[0m     _optimize(\n\u001b[0;32m    452\u001b[0m         study\u001b[38;5;241m=\u001b[39m\u001b[38;5;28mself\u001b[39m,\n\u001b[0;32m    453\u001b[0m         func\u001b[38;5;241m=\u001b[39mfunc,\n\u001b[0;32m    454\u001b[0m         n_trials\u001b[38;5;241m=\u001b[39mn_trials,\n\u001b[0;32m    455\u001b[0m         timeout\u001b[38;5;241m=\u001b[39mtimeout,\n\u001b[0;32m    456\u001b[0m         n_jobs\u001b[38;5;241m=\u001b[39mn_jobs,\n\u001b[0;32m    457\u001b[0m         catch\u001b[38;5;241m=\u001b[39m\u001b[38;5;28mtuple\u001b[39m(catch) \u001b[38;5;28;01mif\u001b[39;00m \u001b[38;5;28misinstance\u001b[39m(catch, Iterable) \u001b[38;5;28;01melse\u001b[39;00m (catch,),\n\u001b[0;32m    458\u001b[0m         callbacks\u001b[38;5;241m=\u001b[39mcallbacks,\n\u001b[0;32m    459\u001b[0m         gc_after_trial\u001b[38;5;241m=\u001b[39mgc_after_trial,\n\u001b[0;32m    460\u001b[0m         show_progress_bar\u001b[38;5;241m=\u001b[39mshow_progress_bar,\n\u001b[0;32m    461\u001b[0m     )\n",
      "File \u001b[1;32m~\\AppData\\Roaming\\Python\\Python311\\site-packages\\optuna\\study\\_optimize.py:99\u001b[0m, in \u001b[0;36m_optimize\u001b[1;34m(study, func, n_trials, timeout, n_jobs, catch, callbacks, gc_after_trial, show_progress_bar)\u001b[0m\n\u001b[0;32m     97\u001b[0m                     \u001b[38;5;66;03m# Raise if exception occurred in executing the completed futures.\u001b[39;00m\n\u001b[0;32m     98\u001b[0m                     \u001b[38;5;28;01mfor\u001b[39;00m f \u001b[38;5;129;01min\u001b[39;00m completed:\n\u001b[1;32m---> 99\u001b[0m                         f\u001b[38;5;241m.\u001b[39mresult()\n\u001b[0;32m    101\u001b[0m                 futures\u001b[38;5;241m.\u001b[39madd(\n\u001b[0;32m    102\u001b[0m                     executor\u001b[38;5;241m.\u001b[39msubmit(\n\u001b[0;32m    103\u001b[0m                         _optimize_sequential,\n\u001b[1;32m   (...)\u001b[0m\n\u001b[0;32m    114\u001b[0m                     )\n\u001b[0;32m    115\u001b[0m                 )\n\u001b[0;32m    116\u001b[0m \u001b[38;5;28;01mfinally\u001b[39;00m:\n",
      "File \u001b[1;32mC:\\ProgramData\\anaconda3\\Lib\\concurrent\\futures\\_base.py:449\u001b[0m, in \u001b[0;36mFuture.result\u001b[1;34m(self, timeout)\u001b[0m\n\u001b[0;32m    447\u001b[0m     \u001b[38;5;28;01mraise\u001b[39;00m CancelledError()\n\u001b[0;32m    448\u001b[0m \u001b[38;5;28;01melif\u001b[39;00m \u001b[38;5;28mself\u001b[39m\u001b[38;5;241m.\u001b[39m_state \u001b[38;5;241m==\u001b[39m FINISHED:\n\u001b[1;32m--> 449\u001b[0m     \u001b[38;5;28;01mreturn\u001b[39;00m \u001b[38;5;28mself\u001b[39m\u001b[38;5;241m.\u001b[39m__get_result()\n\u001b[0;32m    451\u001b[0m \u001b[38;5;28mself\u001b[39m\u001b[38;5;241m.\u001b[39m_condition\u001b[38;5;241m.\u001b[39mwait(timeout)\n\u001b[0;32m    453\u001b[0m \u001b[38;5;28;01mif\u001b[39;00m \u001b[38;5;28mself\u001b[39m\u001b[38;5;241m.\u001b[39m_state \u001b[38;5;129;01min\u001b[39;00m [CANCELLED, CANCELLED_AND_NOTIFIED]:\n",
      "File \u001b[1;32mC:\\ProgramData\\anaconda3\\Lib\\concurrent\\futures\\_base.py:401\u001b[0m, in \u001b[0;36mFuture.__get_result\u001b[1;34m(self)\u001b[0m\n\u001b[0;32m    399\u001b[0m \u001b[38;5;28;01mif\u001b[39;00m \u001b[38;5;28mself\u001b[39m\u001b[38;5;241m.\u001b[39m_exception:\n\u001b[0;32m    400\u001b[0m     \u001b[38;5;28;01mtry\u001b[39;00m:\n\u001b[1;32m--> 401\u001b[0m         \u001b[38;5;28;01mraise\u001b[39;00m \u001b[38;5;28mself\u001b[39m\u001b[38;5;241m.\u001b[39m_exception\n\u001b[0;32m    402\u001b[0m     \u001b[38;5;28;01mfinally\u001b[39;00m:\n\u001b[0;32m    403\u001b[0m         \u001b[38;5;66;03m# Break a reference cycle with the exception in self._exception\u001b[39;00m\n\u001b[0;32m    404\u001b[0m         \u001b[38;5;28mself\u001b[39m \u001b[38;5;241m=\u001b[39m \u001b[38;5;28;01mNone\u001b[39;00m\n",
      "File \u001b[1;32mC:\\ProgramData\\anaconda3\\Lib\\concurrent\\futures\\thread.py:58\u001b[0m, in \u001b[0;36m_WorkItem.run\u001b[1;34m(self)\u001b[0m\n\u001b[0;32m     55\u001b[0m     \u001b[38;5;28;01mreturn\u001b[39;00m\n\u001b[0;32m     57\u001b[0m \u001b[38;5;28;01mtry\u001b[39;00m:\n\u001b[1;32m---> 58\u001b[0m     result \u001b[38;5;241m=\u001b[39m \u001b[38;5;28mself\u001b[39m\u001b[38;5;241m.\u001b[39mfn(\u001b[38;5;241m*\u001b[39m\u001b[38;5;28mself\u001b[39m\u001b[38;5;241m.\u001b[39margs, \u001b[38;5;241m*\u001b[39m\u001b[38;5;241m*\u001b[39m\u001b[38;5;28mself\u001b[39m\u001b[38;5;241m.\u001b[39mkwargs)\n\u001b[0;32m     59\u001b[0m \u001b[38;5;28;01mexcept\u001b[39;00m \u001b[38;5;167;01mBaseException\u001b[39;00m \u001b[38;5;28;01mas\u001b[39;00m exc:\n\u001b[0;32m     60\u001b[0m     \u001b[38;5;28mself\u001b[39m\u001b[38;5;241m.\u001b[39mfuture\u001b[38;5;241m.\u001b[39mset_exception(exc)\n",
      "File \u001b[1;32m~\\AppData\\Roaming\\Python\\Python311\\site-packages\\optuna\\study\\_optimize.py:159\u001b[0m, in \u001b[0;36m_optimize_sequential\u001b[1;34m(study, func, n_trials, timeout, catch, callbacks, gc_after_trial, reseed_sampler_rng, time_start, progress_bar)\u001b[0m\n\u001b[0;32m    156\u001b[0m         \u001b[38;5;28;01mbreak\u001b[39;00m\n\u001b[0;32m    158\u001b[0m \u001b[38;5;28;01mtry\u001b[39;00m:\n\u001b[1;32m--> 159\u001b[0m     frozen_trial \u001b[38;5;241m=\u001b[39m _run_trial(study, func, catch)\n\u001b[0;32m    160\u001b[0m \u001b[38;5;28;01mfinally\u001b[39;00m:\n\u001b[0;32m    161\u001b[0m     \u001b[38;5;66;03m# The following line mitigates memory problems that can be occurred in some\u001b[39;00m\n\u001b[0;32m    162\u001b[0m     \u001b[38;5;66;03m# environments (e.g., services that use computing containers such as GitHub Actions).\u001b[39;00m\n\u001b[0;32m    163\u001b[0m     \u001b[38;5;66;03m# Please refer to the following PR for further details:\u001b[39;00m\n\u001b[0;32m    164\u001b[0m     \u001b[38;5;66;03m# https://github.com/optuna/optuna/pull/325.\u001b[39;00m\n\u001b[0;32m    165\u001b[0m     \u001b[38;5;28;01mif\u001b[39;00m gc_after_trial:\n",
      "File \u001b[1;32m~\\AppData\\Roaming\\Python\\Python311\\site-packages\\optuna\\study\\_optimize.py:247\u001b[0m, in \u001b[0;36m_run_trial\u001b[1;34m(study, func, catch)\u001b[0m\n\u001b[0;32m    240\u001b[0m         \u001b[38;5;28;01massert\u001b[39;00m \u001b[38;5;28;01mFalse\u001b[39;00m, \u001b[38;5;124m\"\u001b[39m\u001b[38;5;124mShould not reach.\u001b[39m\u001b[38;5;124m\"\u001b[39m\n\u001b[0;32m    242\u001b[0m \u001b[38;5;28;01mif\u001b[39;00m (\n\u001b[0;32m    243\u001b[0m     frozen_trial\u001b[38;5;241m.\u001b[39mstate \u001b[38;5;241m==\u001b[39m TrialState\u001b[38;5;241m.\u001b[39mFAIL\n\u001b[0;32m    244\u001b[0m     \u001b[38;5;129;01mand\u001b[39;00m func_err \u001b[38;5;129;01mis\u001b[39;00m \u001b[38;5;129;01mnot\u001b[39;00m \u001b[38;5;28;01mNone\u001b[39;00m\n\u001b[0;32m    245\u001b[0m     \u001b[38;5;129;01mand\u001b[39;00m \u001b[38;5;129;01mnot\u001b[39;00m \u001b[38;5;28misinstance\u001b[39m(func_err, catch)\n\u001b[0;32m    246\u001b[0m ):\n\u001b[1;32m--> 247\u001b[0m     \u001b[38;5;28;01mraise\u001b[39;00m func_err\n\u001b[0;32m    248\u001b[0m \u001b[38;5;28;01mreturn\u001b[39;00m frozen_trial\n",
      "File \u001b[1;32m~\\AppData\\Roaming\\Python\\Python311\\site-packages\\optuna\\study\\_optimize.py:196\u001b[0m, in \u001b[0;36m_run_trial\u001b[1;34m(study, func, catch)\u001b[0m\n\u001b[0;32m    194\u001b[0m \u001b[38;5;28;01mwith\u001b[39;00m get_heartbeat_thread(trial\u001b[38;5;241m.\u001b[39m_trial_id, study\u001b[38;5;241m.\u001b[39m_storage):\n\u001b[0;32m    195\u001b[0m     \u001b[38;5;28;01mtry\u001b[39;00m:\n\u001b[1;32m--> 196\u001b[0m         value_or_values \u001b[38;5;241m=\u001b[39m func(trial)\n\u001b[0;32m    197\u001b[0m     \u001b[38;5;28;01mexcept\u001b[39;00m exceptions\u001b[38;5;241m.\u001b[39mTrialPruned \u001b[38;5;28;01mas\u001b[39;00m e:\n\u001b[0;32m    198\u001b[0m         \u001b[38;5;66;03m# TODO(mamu): Handle multi-objective cases.\u001b[39;00m\n\u001b[0;32m    199\u001b[0m         state \u001b[38;5;241m=\u001b[39m TrialState\u001b[38;5;241m.\u001b[39mPRUNED\n",
      "Cell \u001b[1;32mIn[34], line 44\u001b[0m, in \u001b[0;36mobjective\u001b[1;34m(trial)\u001b[0m\n\u001b[0;32m     41\u001b[0m lgb_test \u001b[38;5;241m=\u001b[39m lgb\u001b[38;5;241m.\u001b[39mDataset(X_test, label\u001b[38;5;241m=\u001b[39my_test, reference\u001b[38;5;241m=\u001b[39mlgb_train)\n\u001b[0;32m     43\u001b[0m \u001b[38;5;66;03m# Train the model\u001b[39;00m\n\u001b[1;32m---> 44\u001b[0m gbm \u001b[38;5;241m=\u001b[39m lgb\u001b[38;5;241m.\u001b[39mtrain(\n\u001b[0;32m     45\u001b[0m     params,\n\u001b[0;32m     46\u001b[0m     lgb_train,\n\u001b[0;32m     47\u001b[0m     num_boost_round\u001b[38;5;241m=\u001b[39m\u001b[38;5;241m4000\u001b[39m,\n\u001b[0;32m     48\u001b[0m     valid_sets\u001b[38;5;241m=\u001b[39m[lgb_train, lgb_test],\n\u001b[0;32m     49\u001b[0m )\n\u001b[0;32m     51\u001b[0m \u001b[38;5;66;03m# Predict\u001b[39;00m\n\u001b[0;32m     52\u001b[0m y_pred_test \u001b[38;5;241m=\u001b[39m gbm\u001b[38;5;241m.\u001b[39mpredict(X_test, num_iteration\u001b[38;5;241m=\u001b[39mgbm\u001b[38;5;241m.\u001b[39mbest_iteration)\n",
      "File \u001b[1;32m~\\AppData\\Roaming\\Python\\Python311\\site-packages\\lightgbm\\engine.py:282\u001b[0m, in \u001b[0;36mtrain\u001b[1;34m(params, train_set, num_boost_round, valid_sets, valid_names, feval, init_model, feature_name, categorical_feature, keep_training_booster, callbacks)\u001b[0m\n\u001b[0;32m    280\u001b[0m \u001b[38;5;66;03m# construct booster\u001b[39;00m\n\u001b[0;32m    281\u001b[0m \u001b[38;5;28;01mtry\u001b[39;00m:\n\u001b[1;32m--> 282\u001b[0m     booster \u001b[38;5;241m=\u001b[39m Booster(params\u001b[38;5;241m=\u001b[39mparams, train_set\u001b[38;5;241m=\u001b[39mtrain_set)\n\u001b[0;32m    283\u001b[0m     \u001b[38;5;28;01mif\u001b[39;00m is_valid_contain_train:\n\u001b[0;32m    284\u001b[0m         booster\u001b[38;5;241m.\u001b[39mset_train_data_name(train_data_name)\n",
      "File \u001b[1;32m~\\AppData\\Roaming\\Python\\Python311\\site-packages\\lightgbm\\basic.py:3627\u001b[0m, in \u001b[0;36mBooster.__init__\u001b[1;34m(self, params, train_set, model_file, model_str)\u001b[0m\n\u001b[0;32m   3620\u001b[0m     \u001b[38;5;28mself\u001b[39m\u001b[38;5;241m.\u001b[39mset_network(\n\u001b[0;32m   3621\u001b[0m         machines\u001b[38;5;241m=\u001b[39mmachines,\n\u001b[0;32m   3622\u001b[0m         local_listen_port\u001b[38;5;241m=\u001b[39mparams[\u001b[38;5;124m\"\u001b[39m\u001b[38;5;124mlocal_listen_port\u001b[39m\u001b[38;5;124m\"\u001b[39m],\n\u001b[0;32m   3623\u001b[0m         listen_time_out\u001b[38;5;241m=\u001b[39mparams\u001b[38;5;241m.\u001b[39mget(\u001b[38;5;124m\"\u001b[39m\u001b[38;5;124mtime_out\u001b[39m\u001b[38;5;124m\"\u001b[39m, \u001b[38;5;241m120\u001b[39m),\n\u001b[0;32m   3624\u001b[0m         num_machines\u001b[38;5;241m=\u001b[39mparams[\u001b[38;5;124m\"\u001b[39m\u001b[38;5;124mnum_machines\u001b[39m\u001b[38;5;124m\"\u001b[39m],\n\u001b[0;32m   3625\u001b[0m     )\n\u001b[0;32m   3626\u001b[0m \u001b[38;5;66;03m# construct booster object\u001b[39;00m\n\u001b[1;32m-> 3627\u001b[0m train_set\u001b[38;5;241m.\u001b[39mconstruct()\n\u001b[0;32m   3628\u001b[0m \u001b[38;5;66;03m# copy the parameters from train_set\u001b[39;00m\n\u001b[0;32m   3629\u001b[0m params\u001b[38;5;241m.\u001b[39mupdate(train_set\u001b[38;5;241m.\u001b[39mget_params())\n",
      "File \u001b[1;32m~\\AppData\\Roaming\\Python\\Python311\\site-packages\\lightgbm\\basic.py:2566\u001b[0m, in \u001b[0;36mDataset.construct\u001b[1;34m(self)\u001b[0m\n\u001b[0;32m   2561\u001b[0m             \u001b[38;5;28mself\u001b[39m\u001b[38;5;241m.\u001b[39m_set_init_score_by_predictor(\n\u001b[0;32m   2562\u001b[0m                 predictor\u001b[38;5;241m=\u001b[39m\u001b[38;5;28mself\u001b[39m\u001b[38;5;241m.\u001b[39m_predictor, data\u001b[38;5;241m=\u001b[39m\u001b[38;5;28mself\u001b[39m\u001b[38;5;241m.\u001b[39mdata, used_indices\u001b[38;5;241m=\u001b[39mused_indices\n\u001b[0;32m   2563\u001b[0m             )\n\u001b[0;32m   2564\u001b[0m \u001b[38;5;28;01melse\u001b[39;00m:\n\u001b[0;32m   2565\u001b[0m     \u001b[38;5;66;03m# create train\u001b[39;00m\n\u001b[1;32m-> 2566\u001b[0m     \u001b[38;5;28mself\u001b[39m\u001b[38;5;241m.\u001b[39m_lazy_init(\n\u001b[0;32m   2567\u001b[0m         data\u001b[38;5;241m=\u001b[39m\u001b[38;5;28mself\u001b[39m\u001b[38;5;241m.\u001b[39mdata,\n\u001b[0;32m   2568\u001b[0m         label\u001b[38;5;241m=\u001b[39m\u001b[38;5;28mself\u001b[39m\u001b[38;5;241m.\u001b[39mlabel,\n\u001b[0;32m   2569\u001b[0m         reference\u001b[38;5;241m=\u001b[39m\u001b[38;5;28;01mNone\u001b[39;00m,\n\u001b[0;32m   2570\u001b[0m         weight\u001b[38;5;241m=\u001b[39m\u001b[38;5;28mself\u001b[39m\u001b[38;5;241m.\u001b[39mweight,\n\u001b[0;32m   2571\u001b[0m         group\u001b[38;5;241m=\u001b[39m\u001b[38;5;28mself\u001b[39m\u001b[38;5;241m.\u001b[39mgroup,\n\u001b[0;32m   2572\u001b[0m         init_score\u001b[38;5;241m=\u001b[39m\u001b[38;5;28mself\u001b[39m\u001b[38;5;241m.\u001b[39minit_score,\n\u001b[0;32m   2573\u001b[0m         predictor\u001b[38;5;241m=\u001b[39m\u001b[38;5;28mself\u001b[39m\u001b[38;5;241m.\u001b[39m_predictor,\n\u001b[0;32m   2574\u001b[0m         feature_name\u001b[38;5;241m=\u001b[39m\u001b[38;5;28mself\u001b[39m\u001b[38;5;241m.\u001b[39mfeature_name,\n\u001b[0;32m   2575\u001b[0m         categorical_feature\u001b[38;5;241m=\u001b[39m\u001b[38;5;28mself\u001b[39m\u001b[38;5;241m.\u001b[39mcategorical_feature,\n\u001b[0;32m   2576\u001b[0m         params\u001b[38;5;241m=\u001b[39m\u001b[38;5;28mself\u001b[39m\u001b[38;5;241m.\u001b[39mparams,\n\u001b[0;32m   2577\u001b[0m         position\u001b[38;5;241m=\u001b[39m\u001b[38;5;28mself\u001b[39m\u001b[38;5;241m.\u001b[39mposition,\n\u001b[0;32m   2578\u001b[0m     )\n\u001b[0;32m   2579\u001b[0m \u001b[38;5;28;01mif\u001b[39;00m \u001b[38;5;28mself\u001b[39m\u001b[38;5;241m.\u001b[39mfree_raw_data:\n\u001b[0;32m   2580\u001b[0m     \u001b[38;5;28mself\u001b[39m\u001b[38;5;241m.\u001b[39mdata \u001b[38;5;241m=\u001b[39m \u001b[38;5;28;01mNone\u001b[39;00m\n",
      "File \u001b[1;32m~\\AppData\\Roaming\\Python\\Python311\\site-packages\\lightgbm\\basic.py:2096\u001b[0m, in \u001b[0;36mDataset._lazy_init\u001b[1;34m(self, data, label, reference, weight, group, init_score, predictor, feature_name, categorical_feature, params, position)\u001b[0m\n\u001b[0;32m   2094\u001b[0m     categorical_feature \u001b[38;5;241m=\u001b[39m reference\u001b[38;5;241m.\u001b[39mcategorical_feature\n\u001b[0;32m   2095\u001b[0m \u001b[38;5;28;01mif\u001b[39;00m \u001b[38;5;28misinstance\u001b[39m(data, pd_DataFrame):\n\u001b[1;32m-> 2096\u001b[0m     data, feature_name, categorical_feature, \u001b[38;5;28mself\u001b[39m\u001b[38;5;241m.\u001b[39mpandas_categorical \u001b[38;5;241m=\u001b[39m _data_from_pandas(\n\u001b[0;32m   2097\u001b[0m         data\u001b[38;5;241m=\u001b[39mdata,\n\u001b[0;32m   2098\u001b[0m         feature_name\u001b[38;5;241m=\u001b[39mfeature_name,\n\u001b[0;32m   2099\u001b[0m         categorical_feature\u001b[38;5;241m=\u001b[39mcategorical_feature,\n\u001b[0;32m   2100\u001b[0m         pandas_categorical\u001b[38;5;241m=\u001b[39m\u001b[38;5;28mself\u001b[39m\u001b[38;5;241m.\u001b[39mpandas_categorical,\n\u001b[0;32m   2101\u001b[0m     )\n\u001b[0;32m   2103\u001b[0m \u001b[38;5;66;03m# process for args\u001b[39;00m\n\u001b[0;32m   2104\u001b[0m params \u001b[38;5;241m=\u001b[39m {} \u001b[38;5;28;01mif\u001b[39;00m params \u001b[38;5;129;01mis\u001b[39;00m \u001b[38;5;28;01mNone\u001b[39;00m \u001b[38;5;28;01melse\u001b[39;00m params\n",
      "File \u001b[1;32m~\\AppData\\Roaming\\Python\\Python311\\site-packages\\lightgbm\\basic.py:846\u001b[0m, in \u001b[0;36m_data_from_pandas\u001b[1;34m(data, feature_name, categorical_feature, pandas_categorical)\u001b[0m\n\u001b[0;32m    842\u001b[0m df_dtypes\u001b[38;5;241m.\u001b[39mappend(np\u001b[38;5;241m.\u001b[39mfloat32)\n\u001b[0;32m    843\u001b[0m target_dtype \u001b[38;5;241m=\u001b[39m np\u001b[38;5;241m.\u001b[39mresult_type(\u001b[38;5;241m*\u001b[39mdf_dtypes)\n\u001b[0;32m    845\u001b[0m \u001b[38;5;28;01mreturn\u001b[39;00m (\n\u001b[1;32m--> 846\u001b[0m     _pandas_to_numpy(data, target_dtype\u001b[38;5;241m=\u001b[39mtarget_dtype),\n\u001b[0;32m    847\u001b[0m     feature_name,\n\u001b[0;32m    848\u001b[0m     categorical_feature,\n\u001b[0;32m    849\u001b[0m     pandas_categorical,\n\u001b[0;32m    850\u001b[0m )\n",
      "File \u001b[1;32m~\\AppData\\Roaming\\Python\\Python311\\site-packages\\lightgbm\\basic.py:795\u001b[0m, in \u001b[0;36m_pandas_to_numpy\u001b[1;34m(data, target_dtype)\u001b[0m\n\u001b[0;32m    792\u001b[0m _check_for_bad_pandas_dtypes(data\u001b[38;5;241m.\u001b[39mdtypes)\n\u001b[0;32m    793\u001b[0m \u001b[38;5;28;01mtry\u001b[39;00m:\n\u001b[0;32m    794\u001b[0m     \u001b[38;5;66;03m# most common case (no nullable dtypes)\u001b[39;00m\n\u001b[1;32m--> 795\u001b[0m     \u001b[38;5;28;01mreturn\u001b[39;00m data\u001b[38;5;241m.\u001b[39mto_numpy(dtype\u001b[38;5;241m=\u001b[39mtarget_dtype, copy\u001b[38;5;241m=\u001b[39m\u001b[38;5;28;01mFalse\u001b[39;00m)\n\u001b[0;32m    796\u001b[0m \u001b[38;5;28;01mexcept\u001b[39;00m \u001b[38;5;167;01mTypeError\u001b[39;00m:\n\u001b[0;32m    797\u001b[0m     \u001b[38;5;66;03m# 1.0 <= pd version < 1.1 and nullable dtypes, least common case\u001b[39;00m\n\u001b[0;32m    798\u001b[0m     \u001b[38;5;66;03m# raises error because array is casted to type(pd.NA) and there's no na_value argument\u001b[39;00m\n\u001b[0;32m    799\u001b[0m     \u001b[38;5;28;01mreturn\u001b[39;00m data\u001b[38;5;241m.\u001b[39mastype(target_dtype, copy\u001b[38;5;241m=\u001b[39m\u001b[38;5;28;01mFalse\u001b[39;00m)\u001b[38;5;241m.\u001b[39mvalues\n",
      "File \u001b[1;32mC:\\ProgramData\\anaconda3\\Lib\\site-packages\\pandas\\core\\frame.py:1838\u001b[0m, in \u001b[0;36mDataFrame.to_numpy\u001b[1;34m(self, dtype, copy, na_value)\u001b[0m\n\u001b[0;32m   1836\u001b[0m \u001b[38;5;28;01mif\u001b[39;00m dtype \u001b[38;5;129;01mis\u001b[39;00m \u001b[38;5;129;01mnot\u001b[39;00m \u001b[38;5;28;01mNone\u001b[39;00m:\n\u001b[0;32m   1837\u001b[0m     dtype \u001b[38;5;241m=\u001b[39m np\u001b[38;5;241m.\u001b[39mdtype(dtype)\n\u001b[1;32m-> 1838\u001b[0m result \u001b[38;5;241m=\u001b[39m \u001b[38;5;28mself\u001b[39m\u001b[38;5;241m.\u001b[39m_mgr\u001b[38;5;241m.\u001b[39mas_array(dtype\u001b[38;5;241m=\u001b[39mdtype, copy\u001b[38;5;241m=\u001b[39mcopy, na_value\u001b[38;5;241m=\u001b[39mna_value)\n\u001b[0;32m   1839\u001b[0m \u001b[38;5;28;01mif\u001b[39;00m result\u001b[38;5;241m.\u001b[39mdtype \u001b[38;5;129;01mis\u001b[39;00m \u001b[38;5;129;01mnot\u001b[39;00m dtype:\n\u001b[0;32m   1840\u001b[0m     result \u001b[38;5;241m=\u001b[39m np\u001b[38;5;241m.\u001b[39marray(result, dtype\u001b[38;5;241m=\u001b[39mdtype, copy\u001b[38;5;241m=\u001b[39m\u001b[38;5;28;01mFalse\u001b[39;00m)\n",
      "File \u001b[1;32mC:\\ProgramData\\anaconda3\\Lib\\site-packages\\pandas\\core\\internals\\managers.py:1732\u001b[0m, in \u001b[0;36mBlockManager.as_array\u001b[1;34m(self, dtype, copy, na_value)\u001b[0m\n\u001b[0;32m   1730\u001b[0m         arr\u001b[38;5;241m.\u001b[39mflags\u001b[38;5;241m.\u001b[39mwriteable \u001b[38;5;241m=\u001b[39m \u001b[38;5;28;01mFalse\u001b[39;00m\n\u001b[0;32m   1731\u001b[0m \u001b[38;5;28;01melse\u001b[39;00m:\n\u001b[1;32m-> 1732\u001b[0m     arr \u001b[38;5;241m=\u001b[39m \u001b[38;5;28mself\u001b[39m\u001b[38;5;241m.\u001b[39m_interleave(dtype\u001b[38;5;241m=\u001b[39mdtype, na_value\u001b[38;5;241m=\u001b[39mna_value)\n\u001b[0;32m   1733\u001b[0m     \u001b[38;5;66;03m# The underlying data was copied within _interleave, so no need\u001b[39;00m\n\u001b[0;32m   1734\u001b[0m     \u001b[38;5;66;03m# to further copy if copy=True or setting na_value\u001b[39;00m\n\u001b[0;32m   1736\u001b[0m \u001b[38;5;28;01mif\u001b[39;00m na_value \u001b[38;5;129;01mis\u001b[39;00m \u001b[38;5;129;01mnot\u001b[39;00m lib\u001b[38;5;241m.\u001b[39mno_default:\n",
      "File \u001b[1;32mC:\\ProgramData\\anaconda3\\Lib\\site-packages\\pandas\\core\\internals\\managers.py:1768\u001b[0m, in \u001b[0;36mBlockManager._interleave\u001b[1;34m(self, dtype, na_value)\u001b[0m\n\u001b[0;32m   1765\u001b[0m \u001b[38;5;28;01melif\u001b[39;00m is_dtype_equal(dtype, \u001b[38;5;28mstr\u001b[39m):\n\u001b[0;32m   1766\u001b[0m     dtype \u001b[38;5;241m=\u001b[39m np\u001b[38;5;241m.\u001b[39mdtype(\u001b[38;5;124m\"\u001b[39m\u001b[38;5;124mobject\u001b[39m\u001b[38;5;124m\"\u001b[39m)\n\u001b[1;32m-> 1768\u001b[0m result \u001b[38;5;241m=\u001b[39m np\u001b[38;5;241m.\u001b[39mempty(\u001b[38;5;28mself\u001b[39m\u001b[38;5;241m.\u001b[39mshape, dtype\u001b[38;5;241m=\u001b[39mdtype)\n\u001b[0;32m   1770\u001b[0m itemmask \u001b[38;5;241m=\u001b[39m np\u001b[38;5;241m.\u001b[39mzeros(\u001b[38;5;28mself\u001b[39m\u001b[38;5;241m.\u001b[39mshape[\u001b[38;5;241m0\u001b[39m])\n\u001b[0;32m   1772\u001b[0m \u001b[38;5;28;01mif\u001b[39;00m dtype \u001b[38;5;241m==\u001b[39m np\u001b[38;5;241m.\u001b[39mdtype(\u001b[38;5;124m\"\u001b[39m\u001b[38;5;124mobject\u001b[39m\u001b[38;5;124m\"\u001b[39m) \u001b[38;5;129;01mand\u001b[39;00m na_value \u001b[38;5;129;01mis\u001b[39;00m lib\u001b[38;5;241m.\u001b[39mno_default:\n\u001b[0;32m   1773\u001b[0m     \u001b[38;5;66;03m# much more performant than using to_numpy below\u001b[39;00m\n",
      "\u001b[1;31mMemoryError\u001b[0m: Unable to allocate 2.26 GiB for an array with shape (386, 785716) and data type float64"
     ]
    }
   ],
   "source": [
    "import pandas as pd\n",
    "from sklearn.model_selection import train_test_split\n",
    "from sklearn.metrics import mean_squared_error, mean_absolute_error, r2_score\n",
    "import lightgbm as lgb\n",
    "import numpy as np\n",
    "import time\n",
    "import optuna\n",
    "\n",
    "start_time = time.time()\n",
    "\n",
    "X = housing_pd_final.drop(columns=['uy_narxi'])\n",
    "y = housing_pd_final['uy_narxi']\n",
    "\n",
    "# Split the data\n",
    "X_train, X_test, y_train, y_test = train_test_split(X, y, test_size=0.2, random_state=42)\n",
    "\n",
    "# Define the objective function for Optuna\n",
    "def objective(trial):\n",
    "    params = {\n",
    "        'objective': 'regression',\n",
    "        'metric': 'mae',\n",
    "        'num_leaves': trial.suggest_int('num_leaves', 100, 300),\n",
    "        'learning_rate': trial.suggest_loguniform('learning_rate', 0.1, 0.6),\n",
    "        'min_gain_to_split': trial.suggest_loguniform('min_gain_to_split', 0.05, 0.3),\n",
    "        'min_data_in_leaf': trial.suggest_int('min_data_in_leaf', 1, 20),\n",
    "        'feature_fraction': trial.suggest_uniform('feature_fraction', 0.7, 1.0),\n",
    "        'lambda_l1': trial.suggest_loguniform('lambda_l1', 1, 10.0),\n",
    "        'lambda_l2': trial.suggest_loguniform('lambda_l2', 1, 10.0),\n",
    "        'is_unbalance': True,\n",
    "        'bagging_fraction': trial.suggest_uniform('bagging_fraction', 0.5, 1.0),\n",
    "        'bagging_freq': trial.suggest_int('bagging_freq', 0, 6),\n",
    "        'feature_fraction_bynode': trial.suggest_uniform('feature_fraction_bynode', 0.5, 1.0),\n",
    "        'min_sum_hessian_in_leaf': trial.suggest_loguniform('min_sum_hessian_in_leaf', 1e-3, 10.0),\n",
    "        'cat_smooth': trial.suggest_int('cat_smooth', 1, 100),\n",
    "        'cat_l2': trial.suggest_loguniform('cat_l2', 1e-3, 10.0),\n",
    "        'max_bin': trial.suggest_int('max_bin', 100, 400)\n",
    "    }\n",
    "\n",
    "    # Create LightGBM datasets\n",
    "    lgb_train = lgb.Dataset(X_train, label=y_train)\n",
    "    lgb_test = lgb.Dataset(X_test, label=y_test, reference=lgb_train)\n",
    "\n",
    "    # Train the model\n",
    "    gbm = lgb.train(\n",
    "        params,\n",
    "        lgb_train,\n",
    "        num_boost_round=4000,\n",
    "        valid_sets=[lgb_train, lgb_test],\n",
    "    )\n",
    "\n",
    "    # Predict\n",
    "    y_pred_test = gbm.predict(X_test, num_iteration=gbm.best_iteration)\n",
    "\n",
    "    # Calculate the mean absolute error\n",
    "    mae = mean_absolute_error(y_test, y_pred_test)\n",
    "    return mae\n",
    "\n",
    "# Create a study object and optimize the objective function\n",
    "study = optuna.create_study(direction='minimize')\n",
    "study.optimize(objective, n_trials=200, n_jobs=-1)\n",
    "\n",
    "# Print the best parameters and the best score\n",
    "print(\"Best parameters found: \", study.best_params)\n",
    "print(\"Best MAE: \", study.best_value)\n",
    "print(\"TAKEN TIME: \", time.time() - start_time)\n"
   ]
  },
  {
   "cell_type": "code",
   "execution_count": 50,
   "id": "312c8297",
   "metadata": {},
   "outputs": [
    {
     "name": "stdout",
     "output_type": "stream",
     "text": [
      "[LightGBM] [Warning] Found whitespace in feature_names, replace with underlines\n",
      "[LightGBM] [Info] Auto-choosing row-wise multi-threading, the overhead of testing was 0.120529 seconds.\n",
      "You can set `force_row_wise=true` to remove the overhead.\n",
      "And if memory is not enough, you can set `force_col_wise=true`.\n",
      "[LightGBM] [Info] Total Bins 978\n",
      "[LightGBM] [Info] Number of data points in the train set: 343151, number of used features: 365\n",
      "[LightGBM] [Warning] Found whitespace in feature_names, replace with underlines\n",
      "[LightGBM] [Info] Start training from score 79317.871465\n",
      "Train MSE: 1321.0131800324245\n",
      "Test MSE: 6758.103350103348\n",
      "Training R²: 0.99788291621808\n",
      "Test R²: 0.94436394653808\n",
      "Mae as percentage for train data: 0.66%\n",
      "Mae as percentage for test data: 4.29%\n"
     ]
    }
   ],
   "source": [
    "# Train the final model with the best parameters\n",
    "best_params = study.best_params\n",
    "best_params['objective'] = 'regression'\n",
    "best_params['metric'] = 'mae'\n",
    "\n",
    "lgb_train = lgb.Dataset(X_train, label=y_train)\n",
    "lgb_test = lgb.Dataset(X_test, label=y_test, reference=lgb_train)\n",
    "\n",
    "gbm_final = lgb.train(\n",
    "    best_params,\n",
    "    lgb_train,\n",
    "    num_boost_round=10000,\n",
    "    valid_sets=[lgb_train, lgb_test]\n",
    ")\n",
    "\n",
    "# Predict and evaluate\n",
    "y_pred_train = gbm_final.predict(X_train, num_iteration=gbm_final.best_iteration)\n",
    "y_pred_test = gbm_final.predict(X_test, num_iteration=gbm_final.best_iteration)\n",
    "\n",
    "# Calculate and print metrics\n",
    "train_mse = mean_squared_error(y_train, y_pred_train, squared=False)\n",
    "test_mse = mean_squared_error(y_test, y_pred_test, squared=False)\n",
    "\n",
    "print(\"Train MSE:\", train_mse)\n",
    "print(\"Test MSE:\", test_mse)\n",
    "\n",
    "train_r2 = r2_score(y_train, y_pred_train)\n",
    "test_r2 = r2_score(y_test, y_pred_test)\n",
    "\n",
    "print(\"Training R²:\", train_r2)\n",
    "print(\"Test R²:\", test_r2)\n",
    "\n",
    "# Calculate MAE and MAE percentage\n",
    "mae_train = mean_absolute_error(y_train, y_pred_train)\n",
    "mae_percentage_train = (mae_train / np.mean(y_train)) * 100\n",
    "\n",
    "mae_val = mean_absolute_error(y_test, y_pred_test)\n",
    "mae_percentage_test = (mae_val / np.mean(y_test)) * 100\n",
    "\n",
    "print(\"Mae as percentage for train data: {:.2f}%\".format(mae_percentage_train))\n",
    "print(\"Mae as percentage for test data: {:.2f}%\".format(mae_percentage_test))\n"
   ]
  },
  {
   "cell_type": "code",
   "execution_count": null,
   "id": "baf79c67",
   "metadata": {},
   "outputs": [],
   "source": []
  },
  {
   "cell_type": "code",
   "execution_count": null,
   "id": "d5119a29",
   "metadata": {},
   "outputs": [],
   "source": []
  },
  {
   "cell_type": "code",
   "execution_count": null,
   "id": "d6ce0467",
   "metadata": {},
   "outputs": [],
   "source": []
  }
 ],
 "metadata": {
  "colab": {
   "provenance": []
  },
  "kernelspec": {
   "display_name": "Python 3 (ipykernel)",
   "language": "python",
   "name": "python3"
  },
  "language_info": {
   "codemirror_mode": {
    "name": "ipython",
    "version": 3
   },
   "file_extension": ".py",
   "mimetype": "text/x-python",
   "name": "python",
   "nbconvert_exporter": "python",
   "pygments_lexer": "ipython3",
   "version": "3.11.5"
  }
 },
 "nbformat": 4,
 "nbformat_minor": 5
}
